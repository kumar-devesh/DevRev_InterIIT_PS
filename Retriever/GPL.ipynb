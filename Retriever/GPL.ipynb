{
  "cells": [
    {
      "cell_type": "markdown",
      "metadata": {
        "collapsed": false,
        "id": "ipOxIUd2IRrg"
      },
      "source": [
        "# Generative Pseudo Labeling for Domain Adaptation of Dense Retrievals\n",
        "\n",
        "*Note: Adapted to Haystack from Nils Reimers' original [notebook](https://colab.research.google.com/gist/jamescalam/d2c888775c87f9882bb7c379a96adbc8/gpl-domain-adaptation.ipynb#scrollTo=183ff7ab)\n",
        "\n",
        "The NLP models we use every day were trained on a corpus of data that reflects the world from the past. In the meantime, we've experienced world-changing events, like the COVID pandemics, and we'd like our models to know about them. Training a model from scratch is tedious work but what if we could just update the models with new data? Generative Pseudo Labeling comes to the rescue.\n",
        "\n",
        "The example below shows you how to use GPL to fine-tune a model so that it can answer the query: \"How is COVID-19 transmitted?\".\n",
        "\n",
        "We're using TAS-B: A DistilBERT model that achieves state-of-the-art performance on MS MARCO (500k queries from Bing Search Engine). Both DistilBERT and MS MARCO were created with data from 2018 and before, hence, it lacks the knowledge of any COVID-related information.\n",
        "\n",
        "For this example, we're using just four documents. When you ask the model \"\"How is COVID-19 transmitted?\", here are the answers that you get (dot-score and document):\n",
        "- 94.84\tEbola is transmitted via direct contact with blood\n",
        "- 92.87\tHIV is transmitted via sex or sharing needles\n",
        "- 92.31\tCorona is transmitted via the air\n",
        "- 91.54\tPolio is transmitted via contaminated water or food\n",
        "\n",
        "\n",
        "You can see that the correct document is only third, outranked by Ebola and HIV information. Let's see how we can make this better.\n",
        "\n",
        "## Efficient Domain Adaptation with GPL\n",
        "This notebook demonstrates [Generative Pseudo Labeling (GPL)](https://arxiv.org/abs/2112.07577), an efficient approach to adapt existing dense retrieval models to new domains and data.\n",
        "\n",
        "We get a collection of 10k scientific papers on COVID-19 and then fine-tune the model within 15-60 minutes (depending on your GPU) so that it includes the COVID knowledge.\n",
        "\n",
        "If we search again with the updated model, we get the search results we would expect:\n",
        "- Query: How is COVID-19 transmitted\n",
        "- 97.70\tCorona is transmitted via the air\n",
        "- 96.71\tEbola is transmitted via direct contact with blood\n",
        "- 95.14\tPolio is transmitted via contaminated water or food\n",
        "- 94.13\tHIV is transmitted via sex or sharing needles\n",
        "\n",
        "### Prepare the Environment\n",
        "\n",
        "#### Colab: Enable the GPU runtime\n",
        "Make sure you enable the GPU runtime to experience decent speed in this tutorial.\n",
        "**Runtime -> Change Runtime type -> Hardware accelerator -> GPU**\n",
        "\n",
        "<img src=\"https://raw.githubusercontent.com/deepset-ai/haystack/main/docs/img/colab_gpu_runtime.jpg\">\n"
      ],
      "id": "ipOxIUd2IRrg"
    },
    {
      "cell_type": "code",
      "execution_count": null,
      "metadata": {
        "colab": {
          "base_uri": "https://localhost:8080/"
        },
        "id": "KpK5X4fsIRrk",
        "outputId": "1b1c9c73-f33b-4192-a517-e1e031f417b5"
      },
      "outputs": [
        {
          "name": "stdout",
          "output_type": "stream",
          "text": [
            "Mon Jan 30 14:59:28 2023       \n",
            "+-----------------------------------------------------------------------------+\n",
            "| NVIDIA-SMI 510.47.03    Driver Version: 510.47.03    CUDA Version: 11.6     |\n",
            "|-------------------------------+----------------------+----------------------+\n",
            "| GPU  Name        Persistence-M| Bus-Id        Disp.A | Volatile Uncorr. ECC |\n",
            "| Fan  Temp  Perf  Pwr:Usage/Cap|         Memory-Usage | GPU-Util  Compute M. |\n",
            "|                               |                      |               MIG M. |\n",
            "|===============================+======================+======================|\n",
            "|   0  Tesla T4            Off  | 00000000:00:04.0 Off |                    0 |\n",
            "| N/A   60C    P8    10W /  70W |      3MiB / 15360MiB |      0%      Default |\n",
            "|                               |                      |                  N/A |\n",
            "+-------------------------------+----------------------+----------------------+\n",
            "                                                                               \n",
            "+-----------------------------------------------------------------------------+\n",
            "| Processes:                                                                  |\n",
            "|  GPU   GI   CI        PID   Type   Process name                  GPU Memory |\n",
            "|        ID   ID                                                   Usage      |\n",
            "|=============================================================================|\n",
            "|  No running processes found                                                 |\n",
            "+-----------------------------------------------------------------------------+\n"
          ]
        }
      ],
      "source": [
        "!nvidia-smi"
      ],
      "id": "KpK5X4fsIRrk"
    },
    {
      "cell_type": "code",
      "execution_count": null,
      "metadata": {
        "colab": {
          "base_uri": "https://localhost:8080/"
        },
        "id": "_Vios1njIRrl",
        "outputId": "fbf46eb5-3af5-4816-f9ae-75799d7f1a1c"
      },
      "outputs": [
        {
          "output_type": "stream",
          "name": "stdout",
          "text": [
            "Looking in indexes: https://pypi.org/simple, https://us-python.pkg.dev/colab-wheels/public/simple/\n",
            "Requirement already satisfied: faiss-gpu<2,>=1.6.3 in /usr/local/lib/python3.8/dist-packages (1.7.2)\n",
            "  Installing build dependencies ... \u001b[?25l\u001b[?25hdone\n",
            "  Getting requirements to build wheel ... \u001b[?25l\u001b[?25hdone\n",
            "  Preparing metadata (pyproject.toml) ... \u001b[?25l\u001b[?25hdone\n"
          ]
        }
      ],
      "source": [
        "!pip install -q datasets\n",
        "!pip install \"faiss-gpu>=1.6.3,<2\"\n",
        "!pip install -q git+https://github.com/deepset-ai/haystack.git\n",
        "!pip install gwpy &> /dev/null"
      ],
      "id": "_Vios1njIRrl"
    },
    {
      "cell_type": "markdown",
      "metadata": {
        "collapsed": false,
        "id": "9HtHw-CVIRrl"
      },
      "source": [
        "## Logging\n",
        "\n",
        "We configure how logging messages should be displayed and which log level should be used before importing Haystack.\n",
        "Example log message:\n",
        "INFO - haystack.utils.preprocessing -  Converting data/tutorial1/218_Olenna_Tyrell.txt\n",
        "Default log level in basicConfig is WARNING so the explicit parameter is not necessary but can be changed easily:"
      ],
      "id": "9HtHw-CVIRrl"
    },
    {
      "cell_type": "code",
      "execution_count": null,
      "metadata": {
        "id": "qYRX8tIfIRrm"
      },
      "outputs": [],
      "source": [
        "import logging\n",
        "\n",
        "logging.basicConfig(format=\"%(levelname)s - %(name)s -  %(message)s\", level=logging.WARNING)\n",
        "logging.getLogger(\"haystack\").setLevel(logging.INFO)"
      ],
      "id": "qYRX8tIfIRrm"
    },
    {
      "cell_type": "code",
      "execution_count": null,
      "metadata": {
        "id": "f7o9tIVCIRrm"
      },
      "outputs": [],
      "source": [
        "from sentence_transformers import SentenceTransformer, util\n",
        "from transformers import AutoTokenizer, AutoModelForSeq2SeqLM\n",
        "from datasets import load_dataset"
      ],
      "id": "f7o9tIVCIRrm"
    },
    {
      "cell_type": "code",
      "execution_count": null,
      "metadata": {
        "id": "f0UuBMV3IRrm"
      },
      "outputs": [],
      "source": [
        "# We load the TAS-B model, a state-of-the-art model trained on MS MARCO\n",
        "max_seq_length = 350\n",
        "model_name = \"multi-qa-mpnet-base-dot-v1\"\n",
        "\n",
        "org_model = SentenceTransformer(model_name)\n",
        "org_model.max_seq_length = max_seq_length"
      ],
      "id": "f0UuBMV3IRrm"
    },
    {
      "cell_type": "markdown",
      "metadata": {
        "collapsed": false,
        "id": "LJoLTNrBIRrn"
      },
      "source": [
        "# Get Some Data on COVID-19\n",
        "We select 10k scientific publications (title + abstract) that are connected to COVID-19. As a dataset, we use [TREC-COVID-19](https://huggingface.co/datasets/nreimers/trec-covid)."
      ],
      "id": "LJoLTNrBIRrn"
    },
    {
      "cell_type": "code",
      "execution_count": null,
      "metadata": {
        "colab": {
          "base_uri": "https://localhost:8080/"
        },
        "id": "RZ16JoeZJt8a",
        "outputId": "b86ead84-1007-40f6-d9e3-5b7ea74a9054"
      },
      "outputs": [
        {
          "output_type": "stream",
          "name": "stdout",
          "text": [
            "Looking in indexes: https://pypi.org/simple, https://us-python.pkg.dev/colab-wheels/public/simple/\n",
            "Requirement already satisfied: wget in /usr/local/lib/python3.8/dist-packages (3.2)\n"
          ]
        }
      ],
      "source": [
        "!pip install wget\n",
        "import wget"
      ],
      "id": "RZ16JoeZJt8a"
    },
    {
      "cell_type": "code",
      "execution_count": null,
      "metadata": {
        "id": "DZTjba8OJrni"
      },
      "outputs": [],
      "source": [
        "dev_data = wget.download('https://drive.google.com/uc?export=download&id=1bkYsb6KE7KmAxrUJupu3Q8kQyfBbTVMF')\n"
      ],
      "id": "DZTjba8OJrni"
    },
    {
      "cell_type": "code",
      "source": [
        "train_data = wget.download('https://drive.google.com/uc?export=download&id=1KFPlHpH69x_WHNKtM0TvMmyAe_zelvew')"
      ],
      "metadata": {
        "id": "jL_gdQqaPCS2"
      },
      "id": "jL_gdQqaPCS2",
      "execution_count": null,
      "outputs": []
    },
    {
      "cell_type": "code",
      "source": [
        "dataset = load_dataset(\"csv\", data_files=\"/content/train_data.csv\", split='train')\n",
        "corpus = []\n",
        "for row in dataset:\n",
        "    text = row['Paragraph']\n",
        "    corpus.append(text)\n",
        "corpus = list(set(corpus))\n",
        "print(\"Len Corpus:\", len(corpus))"
      ],
      "metadata": {
        "colab": {
          "base_uri": "https://localhost:8080/"
        },
        "id": "p-lFRtBSPDu_",
        "outputId": "0385524e-9901-417c-9f7d-77b63e610c69"
      },
      "id": "p-lFRtBSPDu_",
      "execution_count": null,
      "outputs": [
        {
          "output_type": "stream",
          "name": "stderr",
          "text": [
            "WARNING:datasets.builder:Using custom data configuration default-e7ca3f446aaac7c7\n",
            "WARNING:datasets.builder:Found cached dataset csv (/root/.cache/huggingface/datasets/csv/default-e7ca3f446aaac7c7/0.0.0/6b34fb8fcf56f7c8ba51dc895bfa2bfbe43546f190a60fcf74bb5e8afdcc2317)\n"
          ]
        },
        {
          "output_type": "stream",
          "name": "stdout",
          "text": [
            "Len Corpus: 15555\n"
          ]
        }
      ]
    },
    {
      "cell_type": "code",
      "execution_count": null,
      "metadata": {
        "colab": {
          "base_uri": "https://localhost:8080/",
          "height": 170,
          "referenced_widgets": [
            "eeb61f22548a4a4799aa857d4259c4c4",
            "cdd398a8828b485cae80b0a962ed9a0f",
            "86a8c2db05814e1f8bbc75f08c78f7db",
            "d457ba77a8e04f438022180ef7c9542c",
            "5c5bf01a865544068bc12c577240a8eb",
            "d0019ba24ebd49c4b93afaeef3dc668c",
            "74807f9d586c4006b6145b3dc6cf32d6",
            "bf35aabd6dc84adca856b1756aae9f0b",
            "db4c487f7f3c4296a20be27bcaa975f9",
            "a09135c1d48b4197ab5353ff49e8eeab",
            "5927824bb6aa4e548242bd61d5caa710",
            "00c2241aabf040db9ca3d6da10ca8de7",
            "8752b7ba16d541bc832e45cadd229fa9",
            "067aed9b7cc244f887a50e695eece898",
            "f96778d0906b49f1a87031869cecbf37",
            "850f3e9132dd4f2bb5507974d80a309a",
            "332b2cc0715046ca984470d932ef097f",
            "5b955be2a3724f6da7cfa75a7c91bbf4",
            "da5d8184e6bb49bbbb239fb4c60aec6f",
            "6432ee4fc8a7475780fc115296ce1912",
            "4a4c88d9c0984335ae3af681581b743e",
            "318f072300384ce6bcfb72c3fe7b07c7",
            "9d1f6dd9b3714bdba35235455ea9e8ae",
            "0e1df629efeb4c2ba889adb45bd554b2",
            "4bc19fa103434aa5a91becdf6b9e3f9f",
            "f3e33ee256804d71bb35d180072b6810",
            "59d8394e5fed4114a9892d1ed8e4e564",
            "0ce5adc929b740e28f2eb4e1775dc404",
            "e33fe216bf484c9cb97a8cc31a02c8e2",
            "0f36ea2a90b1485db58ee57013b031a0",
            "0a47347c35a849f6b1c9e85d0e04cf25",
            "9bc0490256ed4aed9c2dd6e80206b963",
            "b06dc531b30a422b9b7816199138b0c9"
          ]
        },
        "id": "xlAL6XHHIRro",
        "outputId": "22bee0ac-e616-49a8-b160-d2cdd69af704"
      },
      "outputs": [
        {
          "output_type": "stream",
          "name": "stderr",
          "text": [
            "WARNING:datasets.builder:Using custom data configuration default-2a01f9fe8ff3713b\n"
          ]
        },
        {
          "output_type": "stream",
          "name": "stdout",
          "text": [
            "Downloading and preparing dataset csv/default to /root/.cache/huggingface/datasets/csv/default-2a01f9fe8ff3713b/0.0.0/6b34fb8fcf56f7c8ba51dc895bfa2bfbe43546f190a60fcf74bb5e8afdcc2317...\n"
          ]
        },
        {
          "output_type": "display_data",
          "data": {
            "text/plain": [
              "Downloading data files:   0%|          | 0/1 [00:00<?, ?it/s]"
            ],
            "application/vnd.jupyter.widget-view+json": {
              "version_major": 2,
              "version_minor": 0,
              "model_id": "eeb61f22548a4a4799aa857d4259c4c4"
            }
          },
          "metadata": {}
        },
        {
          "output_type": "display_data",
          "data": {
            "text/plain": [
              "Extracting data files:   0%|          | 0/1 [00:00<?, ?it/s]"
            ],
            "application/vnd.jupyter.widget-view+json": {
              "version_major": 2,
              "version_minor": 0,
              "model_id": "00c2241aabf040db9ca3d6da10ca8de7"
            }
          },
          "metadata": {}
        },
        {
          "output_type": "display_data",
          "data": {
            "text/plain": [
              "Generating train split: 0 examples [00:00, ? examples/s]"
            ],
            "application/vnd.jupyter.widget-view+json": {
              "version_major": 2,
              "version_minor": 0,
              "model_id": "9d1f6dd9b3714bdba35235455ea9e8ae"
            }
          },
          "metadata": {}
        },
        {
          "output_type": "stream",
          "name": "stdout",
          "text": [
            "Dataset csv downloaded and prepared to /root/.cache/huggingface/datasets/csv/default-2a01f9fe8ff3713b/0.0.0/6b34fb8fcf56f7c8ba51dc895bfa2bfbe43546f190a60fcf74bb5e8afdcc2317. Subsequent calls will reuse this data.\n",
            "Len Corpus: 1204\n"
          ]
        }
      ],
      "source": [
        "dataset = load_dataset(\"csv\", data_files=\"/content/dev.csv\", split='train')\n",
        "corpus = []\n",
        "for row in dataset:\n",
        "    text = row['context']\n",
        "    corpus.append(text)\n",
        "corpus = list(set(corpus))\n",
        "print(\"Len Corpus:\", len(corpus))"
      ],
      "id": "xlAL6XHHIRro"
    },
    {
      "cell_type": "markdown",
      "metadata": {
        "collapsed": false,
        "id": "TOgPcElLIRro"
      },
      "source": [
        "# Initialize Haystack Retriever and DocumentStore\n",
        "\n",
        "Let's add corpus documents to `FAISSDocumentStore` and update corpus embeddings via `EmbeddingRetriever`"
      ],
      "id": "TOgPcElLIRro"
    },
    {
      "cell_type": "code",
      "source": [
        "!pip install -q gwpy"
      ],
      "metadata": {
        "id": "V52kD3BePkuE"
      },
      "id": "V52kD3BePkuE",
      "execution_count": null,
      "outputs": []
    },
    {
      "cell_type": "code",
      "execution_count": null,
      "metadata": {
        "id": "EPAZo0z0IRro"
      },
      "outputs": [],
      "source": [
        "from haystack.nodes.retriever import EmbeddingRetriever\n",
        "from haystack.document_stores import FAISSDocumentStore\n",
        "\n",
        "document_store = FAISSDocumentStore(faiss_index_factory_str=\"Flat\")\n",
        "document_store.write_documents([{\"content\": t} for t in corpus])\n",
        "\n",
        "\n",
        "retriever = EmbeddingRetriever(\n",
        "    document_store=document_store,\n",
        "    embedding_model=\"/content/adapted_retriever\",\n",
        "    model_format=\"sentence_transformers\",\n",
        "    max_seq_len=max_seq_length,\n",
        "    progress_bar=True,\n",
        ")\n",
        "document_store.update_embeddings(retriever)"
      ],
      "id": "EPAZo0z0IRro"
    },
    {
      "cell_type": "markdown",
      "metadata": {
        "collapsed": false,
        "id": "0HGo11yaIRrp"
      },
      "source": [
        "## (Optional) Download Pre-Generated Questions or Generate Them Outside of Haystack\n",
        "\n",
        "The first step of the GPL algorithm requires us to generate questions for a given text passage. Even though our pre-COVID trained model hasn't seen any COVID-related content, it can still produce sensible queries by copying words from the input text. As generating questions from 10k documents is a bit slow (depending on the GPU used), we'll download question/document pairs directly from the Hugging Face hub.\n"
      ],
      "id": "0HGo11yaIRrp"
    },
    {
      "cell_type": "code",
      "execution_count": null,
      "metadata": {
        "colab": {
          "base_uri": "https://localhost:8080/",
          "height": 191,
          "referenced_widgets": [
            "a953e79e52474e8bb4f469fdaa3d085d",
            "a7b24f7092254275939d18917a8ca023",
            "f047f25f895447789b4175eb76ac88a7",
            "c3656d483cbc4e3a84a55ccbb3712492",
            "73997a8eff634bf981e31652ee0a99f3",
            "a06332c25ebc4b448a1776d7362abd0a",
            "eed7e8eeba9948bf974961389ccb3cab",
            "3a16cf977aac4a8ebfdbe2476625c82d",
            "155f3dbf007744a49f955b7b4910dfca",
            "d103b464a3484dbcb02ea5137146f2c1",
            "d4a94f5899e64e1997a58fefbf7cd766"
          ]
        },
        "id": "K1VPPTUFIRrp",
        "outputId": "1d63f04d-e8b0-458a-b03d-13636d8168a6"
      },
      "outputs": [
        {
          "output_type": "stream",
          "name": "stderr",
          "text": [
            "/usr/local/lib/python3.8/dist-packages/transformers/models/t5/tokenization_t5_fast.py:155: FutureWarning: This tokenizer was incorrectly instantiated with a model max length of 512 which will be corrected in Transformers v5.\n",
            "For now, this behavior is kept to avoid breaking backwards compatibility when padding/encoding with `truncation is True`.\n",
            "- Be aware that you SHOULD NOT rely on t5-small automatically truncating your input to 512 when padding/encoding.\n",
            "- If you want to encode/pad to sequences longer than 512 you can either instantiate this tokenizer with `model_max_length` or pass `max_length` when encoding/padding.\n",
            "- To avoid this warning, please instantiate this tokenizer with `model_max_length` set to your preferred value.\n",
            "  warnings.warn(\n"
          ]
        },
        {
          "output_type": "display_data",
          "data": {
            "text/plain": [
              "  0%|          | 0/38 [00:00<?, ?it/s]"
            ],
            "application/vnd.jupyter.widget-view+json": {
              "version_major": 2,
              "version_minor": 0,
              "model_id": "a953e79e52474e8bb4f469fdaa3d085d"
            }
          },
          "metadata": {}
        },
        {
          "output_type": "stream",
          "name": "stdout",
          "text": [
            "Generated queries: 3612\n"
          ]
        }
      ],
      "source": [
        "from tqdm.auto import tqdm\n",
        "\n",
        "query_doc_pairs = []\n",
        "\n",
        "load_queries_from_hub = False\n",
        "\n",
        "# Generation of the queries is quite slow in Colab due to the old GPU and the limited CPU\n",
        "# I pre-computed the queries and uploaded these to the HF dataset hub. Here we just download them\n",
        "if load_queries_from_hub:\n",
        "    generated_queries = load_dataset(\"nreimers/trec-covid-generated-queries\", split=\"train\")\n",
        "    for row in generated_queries:\n",
        "        query_doc_pairs.append({\"question\": row[\"query\"], \"document\": row[\"doc\"]})\n",
        "else:\n",
        "    # Load doc2query model\n",
        "    t5_name = \"t5-small\"\n",
        "    t5_tokenizer = AutoTokenizer.from_pretrained(t5_name)\n",
        "    t5_model = AutoModelForSeq2SeqLM.from_pretrained(t5_name).cuda()\n",
        "\n",
        "    batch_size = 32\n",
        "    queries_per_doc = 3\n",
        "\n",
        "    for start_idx in tqdm(range(0, len(corpus), batch_size)):\n",
        "        corpus_batch = corpus[start_idx : start_idx + batch_size]\n",
        "        enc_inp = t5_tokenizer(\n",
        "            corpus_batch, max_length=max_seq_length, truncation=True, padding=True, return_tensors=\"pt\"\n",
        "        )\n",
        "\n",
        "        outputs = t5_model.generate(\n",
        "            input_ids=enc_inp[\"input_ids\"].cuda(),\n",
        "            attention_mask=enc_inp[\"attention_mask\"].cuda(),\n",
        "            max_length=64,\n",
        "            do_sample=True,\n",
        "            top_p=0.95,\n",
        "            num_return_sequences=queries_per_doc,\n",
        "        )\n",
        "\n",
        "        decoded_output = t5_tokenizer.batch_decode(outputs, skip_special_tokens=True)\n",
        "\n",
        "        for idx, query in enumerate(decoded_output):\n",
        "            corpus_id = int(idx / queries_per_doc)\n",
        "            query_doc_pairs.append({\"question\": query, \"document\": corpus_batch[corpus_id]})\n",
        "\n",
        "\n",
        "print(\"Generated queries:\", len(query_doc_pairs))"
      ],
      "id": "K1VPPTUFIRrp"
    },
    {
      "cell_type": "markdown",
      "metadata": {
        "collapsed": false,
        "id": "TnpGDMNkIRrp"
      },
      "source": [
        "# Use PseudoLabelGenerator to Genenerate Retriever Adaptation Training Data\n",
        "\n",
        "PseudoLabelGenerator run will execute all three steps of the GPL [algorithm](https://github.com/UKPLab/gpl#how-does-gpl-work):\n",
        " 1. Question generation - optional step\n",
        " 2. Negative mining\n",
        " 3. Pseudo labeling (margin scoring)\n",
        "\n",
        "The output of the `PseudoLabelGenerator` is the training data we'll use to adapt our `EmbeddingRetriever`.\n"
      ],
      "id": "TnpGDMNkIRrp"
    },
    {
      "cell_type": "code",
      "execution_count": null,
      "metadata": {
        "collapsed": true,
        "id": "1RAH3wNyIRrp"
      },
      "outputs": [],
      "source": [
        "\n",
        "from haystack.nodes.question_generator import QuestionGenerator\n",
        "from haystack.nodes.label_generator import PseudoLabelGenerator\n",
        "\n",
        "use_question_generator = True\n",
        "\n",
        "\n",
        "if use_question_generator:\n",
        "    questions_producer = QuestionGenerator(\n",
        "        model_name_or_path=\"doc2query/msmarco-t5-base-v1\",\n",
        "        max_length=64,\n",
        "        split_length=128,\n",
        "        batch_size=32,\n",
        "        num_queries_per_doc=3,\n",
        "    )\n",
        "\n",
        "else:\n",
        "    questions_producer = query_doc_pairs\n",
        "\n",
        "# We can use either QuestionGenerator or already generated questions in PseudoLabelGenerator\n",
        "psg = PseudoLabelGenerator(questions_producer, retriever, max_questions_per_document=10, batch_size=32, top_k=10)\n",
        "output, pipe_id = psg.run(documents=document_store.get_all_documents())"
      ],
      "id": "1RAH3wNyIRrp"
    },
    {
      "cell_type": "markdown",
      "metadata": {
        "collapsed": false,
        "id": "OPIn1OH4IRrp"
      },
      "source": [
        "# Update the Retriever\n",
        "\n",
        "Now that we have the generated training data produced by `PseudoLabelGenerator`, we'll update the `EmbeddingRetriever`. Let's take a peek at the training data."
      ],
      "id": "OPIn1OH4IRrp"
    },
    {
      "cell_type": "code",
      "source": [
        "out = output.copy()"
      ],
      "metadata": {
        "id": "dSdjR0ltcL_6"
      },
      "id": "dSdjR0ltcL_6",
      "execution_count": null,
      "outputs": []
    },
    {
      "cell_type": "code",
      "execution_count": null,
      "metadata": {
        "id": "u5_dck5BK6JW"
      },
      "outputs": [],
      "source": [
        "import pickle"
      ],
      "id": "u5_dck5BK6JW"
    },
    {
      "cell_type": "code",
      "execution_count": null,
      "metadata": {
        "id": "FnV2cIEIJFMK"
      },
      "outputs": [],
      "source": [
        "with open('/content/filename.pickle', 'rb') as handle:\n",
        "    out = (pickle.load(handle))"
      ],
      "id": "FnV2cIEIJFMK"
    },
    {
      "cell_type": "code",
      "source": [
        "with open('filename.pickle', 'wb') as handle:\n",
        "    pickle.dump(output, handle, protocol=pickle.HIGHEST_PROTOCOL)"
      ],
      "metadata": {
        "id": "GMnuJWvvc1GT"
      },
      "id": "GMnuJWvvc1GT",
      "execution_count": null,
      "outputs": []
    },
    {
      "cell_type": "code",
      "source": [
        "out = open(\"/content/filename.pickle\")"
      ],
      "metadata": {
        "id": "YP6InVJkd2E6"
      },
      "id": "YP6InVJkd2E6",
      "execution_count": null,
      "outputs": []
    },
    {
      "cell_type": "code",
      "execution_count": null,
      "metadata": {
        "colab": {
          "base_uri": "https://localhost:8080/"
        },
        "id": "90IdPzf0IRrq",
        "outputId": "59f27e14-7bf3-4e00-a214-9f4eee590521"
      },
      "outputs": [
        {
          "output_type": "execute_result",
          "data": {
            "text/plain": [
              "{'question': 'what does conservative force mean',\n",
              " 'pos_doc': 'A conservative force that acts on a closed system has an associated mechanical work that allows energy to convert only between kinetic or potential forms. This means that for a closed system, the net mechanical energy is conserved whenever a conservative force acts on the system. The force, therefore, is related directly to the difference in potential energy between two different locations in space, and can be considered to be an artifact of the potential field in the same way that the direction and amount of a flow of water can be considered to be an artifact of the contour map of the elevation of an area.',\n",
              " 'neg_doc': \"Following the Peterloo massacre of 1819, poet Percy Shelley wrote the political poem The Mask of Anarchy later that year, that begins with the images of what he thought to be the unjust forms of authority of his time—and then imagines the stirrings of a new form of social action. It is perhaps the first modern[vague] statement of the principle of nonviolent protest. A version was taken up by the author Henry David Thoreau in his essay Civil Disobedience, and later by Gandhi in his doctrine of Satyagraha. Gandhi's Satyagraha was partially influenced and inspired by Shelley's nonviolence in protest and political action. In particular, it is known that Gandhi would often quote Shelley's Masque of Anarchy to vast audiences during the campaign for a free India.\",\n",
              " 'score': 18.930437}"
            ]
          },
          "metadata": {},
          "execution_count": 35
        }
      ],
      "source": [
        "output[\"gpl_labels\"][50]"
      ],
      "id": "90IdPzf0IRrq"
    },
    {
      "cell_type": "code",
      "execution_count": null,
      "metadata": {
        "colab": {
          "base_uri": "https://localhost:8080/"
        },
        "id": "HZcgEBi5IRrq",
        "outputId": "85d53059-4636-4e6c-88ac-8ec19f3e355a"
      },
      "outputs": [
        {
          "data": {
            "text/plain": [
              "5009"
            ]
          },
          "execution_count": 23,
          "metadata": {},
          "output_type": "execute_result"
        }
      ],
      "source": [
        "len(output[\"gpl_labels\"])"
      ],
      "id": "HZcgEBi5IRrq"
    },
    {
      "cell_type": "code",
      "execution_count": null,
      "metadata": {
        "colab": {
          "base_uri": "https://localhost:8080/"
        },
        "id": "d0xMs2P6LiQm",
        "outputId": "c0bc9606-baeb-4388-fa9e-3f9b9f779fcb"
      },
      "outputs": [
        {
          "name": "stdout",
          "output_type": "stream",
          "text": [
            "(training_data: List[Dict[str, Any]], learning_rate: float = 2e-05, n_epochs: int = 1, num_warmup_steps: Union[int, NoneType] = None, batch_size: int = 16, train_loss: str = 'mnrl') -> None\n"
          ]
        }
      ],
      "source": [
        "import inspect\n",
        "print(inspect.signature(retriever.train))"
      ],
      "id": "d0xMs2P6LiQm"
    },
    {
      "cell_type": "code",
      "execution_count": null,
      "metadata": {
        "colab": {
          "base_uri": "https://localhost:8080/"
        },
        "id": "OYaTiYuCMENu",
        "outputId": "847bfce9-94bc-4b4b-94d7-45dbfa2f7d29"
      },
      "outputs": [
        {
          "name": "stdout",
          "output_type": "stream",
          "text": [
            "Looking in indexes: https://pypi.org/simple, https://us-python.pkg.dev/colab-wheels/public/simple/\n",
            "Requirement already satisfied: numba in /usr/local/lib/python3.8/dist-packages (0.56.4)\n",
            "Requirement already satisfied: setuptools in /usr/local/lib/python3.8/dist-packages (from numba) (57.4.0)\n",
            "Requirement already satisfied: importlib-metadata in /usr/local/lib/python3.8/dist-packages (from numba) (5.2.0)\n",
            "Requirement already satisfied: llvmlite<0.40,>=0.39.0dev0 in /usr/local/lib/python3.8/dist-packages (from numba) (0.39.1)\n",
            "Requirement already satisfied: numpy<1.24,>=1.18 in /usr/local/lib/python3.8/dist-packages (from numba) (1.21.6)\n",
            "Requirement already satisfied: zipp>=0.5 in /usr/local/lib/python3.8/dist-packages (from importlib-metadata->numba) (3.11.0)\n",
            "\u001b[33mWARNING: Running pip as the 'root' user can result in broken permissions and conflicting behaviour with the system package manager. It is recommended to use a virtual environment instead: https://pip.pypa.io/warnings/venv\u001b[0m\u001b[33m\n",
            "\u001b[0m"
          ]
        }
      ],
      "source": [
        "!pip install numba\n",
        "\n",
        "from numba import cuda \n",
        "device = cuda.get_current_device()\n",
        "device.reset()"
      ],
      "id": "OYaTiYuCMENu"
    },
    {
      "cell_type": "code",
      "execution_count": null,
      "metadata": {
        "id": "W6PKnogxMoPL"
      },
      "outputs": [],
      "source": [
        "!CUDA_LAUNCH_BLOCKING=1"
      ],
      "id": "W6PKnogxMoPL"
    },
    {
      "cell_type": "code",
      "execution_count": null,
      "metadata": {
        "id": "hmvkjbqSIRrq",
        "colab": {
          "base_uri": "https://localhost:8080/",
          "height": 150,
          "referenced_widgets": [
            "f07d7617ac584a4ca8ba4484e94395a3",
            "70ff26070acf4298b05f2e9ee868298c",
            "b970b1fb6f884ea881aef076a0a46811",
            "23b5205e99cd424a829da79f78180471",
            "4ff65d233f6346ce80f531512630927d",
            "76e858904a36475c969e56807e5edc89",
            "3ce5d80ae6df4e4caa1e32bd3f1431b1",
            "cc4a1cac632d496ebff32625f12ecbca",
            "d99e358af42e4231b1542a36b541e3ca",
            "7cea07d21d7a461794702b6a3a5a863b",
            "cb9b9a6b1bf54f07a2e6942c335c775e",
            "d3371fbceea64e6192e11853083dbc8c",
            "2ac38d01a90848f598ccd4454e15455c",
            "c49a8dcc0d5d4e4c8023d5344880e9eb",
            "6047abe27ffb4ff296dea8be3c7d566f",
            "8693a2c55ea94479816b8c5062eb6863",
            "3dc0068191e841c68bae24529b0b2067",
            "dfdbeff2ed79430ea8ab4d3067962150",
            "def6733685c3469880430678fc30c630",
            "09161781355843b089b52ead00918919",
            "44f03f48878a402c85f050ce2058dee5",
            "a2c67dd63a044c46922cdeca536ae0d0"
          ]
        },
        "outputId": "7936cdca-8270-4ec1-a60e-a2fc7ff3c50b"
      },
      "outputs": [
        {
          "output_type": "stream",
          "name": "stderr",
          "text": [
            "INFO:haystack.nodes.retriever._embedding_encoder:Training/adapting SentenceTransformer(\n",
            "  (0): Transformer({'max_seq_length': 350, 'do_lower_case': False}) with Transformer model: MPNetModel \n",
            "  (1): Pooling({'word_embedding_dimension': 768, 'pooling_mode_cls_token': True, 'pooling_mode_mean_tokens': False, 'pooling_mode_max_tokens': False, 'pooling_mode_mean_sqrt_len_tokens': False})\n",
            ") with 5009 examples\n"
          ]
        },
        {
          "output_type": "display_data",
          "data": {
            "text/plain": [
              "Epoch:   0%|          | 0/1 [00:00<?, ?it/s]"
            ],
            "application/vnd.jupyter.widget-view+json": {
              "version_major": 2,
              "version_minor": 0,
              "model_id": "f07d7617ac584a4ca8ba4484e94395a3"
            }
          },
          "metadata": {}
        },
        {
          "output_type": "display_data",
          "data": {
            "text/plain": [
              "Iteration:   0%|          | 0/1252 [00:00<?, ?it/s]"
            ],
            "application/vnd.jupyter.widget-view+json": {
              "version_major": 2,
              "version_minor": 0,
              "model_id": "d3371fbceea64e6192e11853083dbc8c"
            }
          },
          "metadata": {}
        }
      ],
      "source": [
        "retriever.train(output[\"gpl_labels\"], batch_size=4)"
      ],
      "id": "hmvkjbqSIRrq"
    },
    {
      "cell_type": "code",
      "execution_count": null,
      "metadata": {
        "id": "tbxjB5KPwUCG"
      },
      "outputs": [],
      "source": [],
      "id": "tbxjB5KPwUCG"
    },
    {
      "cell_type": "markdown",
      "metadata": {
        "collapsed": false,
        "id": "j2JJu8waIRrq"
      },
      "source": [
        "## Verify that EmbeddingRetriever Is Adapted and Save It For Future Use\n",
        "\n",
        "Let's repeat our query to see if the Retriever learned about COVID and can now rank it as #1 among the answers."
      ],
      "id": "j2JJu8waIRrq"
    },
    {
      "cell_type": "code",
      "execution_count": null,
      "metadata": {
        "colab": {
          "base_uri": "https://localhost:8080/"
        },
        "id": "4c1c22ce",
        "outputId": "4d97deee-4527-4a0d-d211-92d56fd9d3f9"
      },
      "outputs": [
        {
          "name": "stdout",
          "output_type": "stream",
          "text": [
            "Original Model\n",
            "Query: How is COVID-19 transmitted\n",
            "94.84\tEbola is transmitted via direct contact with blood\n",
            "92.87\tHIV is transmitted via sex or sharing needles\n",
            "92.31\tCorona is transmitted via the air\n",
            "91.54\tPolio is transmitted via contaminated water or food\n",
            "\n",
            "\n",
            "Adapted Model\n",
            "Query: How is COVID-19 transmitted\n",
            "100.73\tCorona is transmitted via the air\n",
            "100.27\tEbola is transmitted via direct contact with blood\n",
            "98.41\tHIV is transmitted via sex or sharing needles\n",
            "98.21\tPolio is transmitted via contaminated water or food\n"
          ]
        }
      ],
      "source": [
        "print(\"Original Model\")\n",
        "show_examples(org_model)\n",
        "\n",
        "print(\"\\n\\nAdapted Model\")\n",
        "show_examples(retriever.embedding_encoder.embedding_model)"
      ],
      "id": "4c1c22ce"
    },
    {
      "cell_type": "code",
      "execution_count": null,
      "metadata": {
        "id": "-34616RA3cpA"
      },
      "outputs": [],
      "source": [
        "retriever.save(\"adapted_retriever\")"
      ],
      "id": "-34616RA3cpA"
    },
    {
      "cell_type": "code",
      "execution_count": null,
      "metadata": {
        "id": "ZAcDL7jeQ6e7"
      },
      "outputs": [],
      "source": [
        "!apt install libomp-dev --quiet\n",
        "!pip install faiss-gpu --quiet\n",
        "!pip install --quiet sentencepiece --quiet\n",
        "!pip install -U sentence-transformers --quiet\n",
        "!pip install --upgrade pip --quiet\n",
        "!pip install Pillow==9.0.0 --quiet\n",
        "!pip install --quiet transformers --quiet\n",
        "!pip install --quiet datasets --quiet\n",
        "!pip install --quiet elasticsearch_dsl --quiet\n",
        "!pip install optimum[intel] --quiet\n",
        "!pip install evaluate --quiet\n",
        "!pip install wget --quiet\n",
        "!python -m pip install optimum[neural-compressor] --quiet\n",
        "!python -m pip install optimum[openvino,nncf] --quiet"
      ],
      "id": "ZAcDL7jeQ6e7"
    },
    {
      "cell_type": "code",
      "execution_count": null,
      "metadata": {
        "id": "0x-aulB-QU-s"
      },
      "outputs": [],
      "source": [
        "PATH = '/content/adapted_retriever'\n",
        "org_model = SentenceTransformer(PATH)\n",
        "# tokenizer = BertTokenizer.from_pretrained(PATH, local_files_only=True)"
      ],
      "id": "0x-aulB-QU-s"
    },
    {
      "cell_type": "code",
      "execution_count": null,
      "metadata": {
        "id": "UN34W8AORST4"
      },
      "outputs": [],
      "source": [
        "!wget -O eval_script.py \"https://drive.google.com/uc?export=download&id=1GPBSpYDtpWoAUQkONxCjIXiqZqjL7ASZ&confirm=t&uuid=aabf1dfd-3fc2-4246-bd65-d544e8defd25&at=ALgDtswiYhx2DY4b8YGfnNIHgdWc:1674765375310\""
      ],
      "id": "UN34W8AORST4"
    },
    {
      "cell_type": "code",
      "execution_count": null,
      "metadata": {
        "id": "K30JFtMwRloK"
      },
      "outputs": [],
      "source": [
        "!python /content/eval_script.py \\\n",
        "      --data dev \\\n",
        "      --fraction 1 \\\n",
        "      --retriever_model PATH \\\n",
        "      --qna_model 'tachyon-11/xtremedistil-l6-h384-uncased-changed' \\\n",
        "      --onnx False \\\n",
        "      --query_expander 0 \\\n",
        "      --device cuda"
      ],
      "id": "K30JFtMwRloK"
    },
    {
      "cell_type": "code",
      "execution_count": null,
      "metadata": {
        "id": "pmk6RdTgSD-E"
      },
      "outputs": [],
      "source": [
        "model = SentenceTransformer('/content/adapted_retriever')\n",
        "top_k = 5"
      ],
      "id": "pmk6RdTgSD-E"
    },
    {
      "cell_type": "code",
      "execution_count": null,
      "metadata": {
        "id": "IJlC73_bRYwa"
      },
      "outputs": [],
      "source": [
        "import pandas as pd"
      ],
      "id": "IJlC73_bRYwa"
    },
    {
      "cell_type": "code",
      "execution_count": null,
      "metadata": {
        "id": "p8VaR8RQRoeL"
      },
      "outputs": [],
      "source": [
        "train_data = wget.download('https://drive.google.com/uc?export=download&id=1KFPlHpH69x_WHNKtM0TvMmyAe_zelvew')"
      ],
      "id": "p8VaR8RQRoeL"
    },
    {
      "cell_type": "code",
      "execution_count": null,
      "metadata": {
        "id": "ZqlQyvyLRXo2"
      },
      "outputs": [],
      "source": [
        "data = pd.read_csv(\"/content/dev.csv\")"
      ],
      "id": "ZqlQyvyLRXo2"
    },
    {
      "cell_type": "code",
      "execution_count": null,
      "metadata": {
        "id": "lUVMM-23SM04"
      },
      "outputs": [],
      "source": [
        "data.head()"
      ],
      "id": "lUVMM-23SM04"
    },
    {
      "cell_type": "code",
      "execution_count": null,
      "metadata": {
        "id": "c4FRU8qCW2eL"
      },
      "outputs": [],
      "source": [
        "import faiss"
      ],
      "id": "c4FRU8qCW2eL"
    },
    {
      "cell_type": "code",
      "execution_count": null,
      "metadata": {
        "id": "EXd-Cq8KSKuK"
      },
      "outputs": [],
      "source": [
        "# unique_themes = data['Theme'].unique()\n",
        "\n",
        "# theme = unique_themes[0]\n",
        "# paragraphs_for_theme = data[data['Theme'] == theme]['Paragraph'].unique()\n",
        "# questions_for_theme = data[data['Theme'] == theme]['Question'].to_numpy()\n",
        "questions = data['question'].to_numpy()\n",
        "paragraphs = data['context'].unique()\n",
        "questions_for_para = [data[data['context'] == para]['question'].to_numpy() for para in paragraphs]\n",
        "\n",
        "para_for_ques = [[i, ] * len(p) for i, p in enumerate(questions_for_para)]\n",
        "para_for_ques = sum(para_for_ques, [])\n",
        "\n",
        "para_embeddings = model.encode(paragraphs)\n",
        "para_embeddings.shape\n",
        "\n",
        "d = para_embeddings.shape[1]\n",
        "index = faiss.IndexFlatL2(d)\n",
        "index.add(para_embeddings)"
      ],
      "id": "EXd-Cq8KSKuK"
    },
    {
      "cell_type": "code",
      "execution_count": null,
      "metadata": {
        "colab": {
          "base_uri": "https://localhost:8080/"
        },
        "id": "7uI-0YbpSTya",
        "outputId": "4e2de3c4-e428-49fa-8949-ef793b37a061"
      },
      "outputs": [
        {
          "output_type": "stream",
          "name": "stdout",
          "text": [
            "CPU times: user 15.4 s, sys: 79.8 ms, total: 15.5 s\n",
            "Wall time: 15.1 s\n"
          ]
        }
      ],
      "source": [
        "%%time\n",
        "ques_embeddings = model.encode(questions)\n",
        "D, I = index.search(ques_embeddings, 4)"
      ],
      "id": "7uI-0YbpSTya"
    },
    {
      "cell_type": "code",
      "execution_count": null,
      "metadata": {
        "colab": {
          "base_uri": "https://localhost:8080/"
        },
        "id": "Kc_4wNy9SWc5",
        "outputId": "b8b368ca-8343-499b-c43b-020ebbb274e7"
      },
      "outputs": [
        {
          "output_type": "execute_result",
          "data": {
            "text/plain": [
              "(0.732249642044976, 0.520424492546113)"
            ]
          },
          "metadata": {},
          "execution_count": 41
        }
      ],
      "source": [
        "topK_acc = 0.0\n",
        "top1_acc = 0.0\n",
        "\n",
        "for i, ind in enumerate(I):\n",
        "  true_para = para_for_ques[i]\n",
        "  topK_acc += (true_para in ind)\n",
        "  top1_acc += (true_para == ind[0])\n",
        "\n",
        "topK_acc = topK_acc / len(I)\n",
        "top1_acc = top1_acc / len(I)\n",
        "\n",
        "topK_acc, top1_acc"
      ],
      "id": "Kc_4wNy9SWc5"
    }
  ],
  "metadata": {
    "accelerator": "GPU",
    "colab": {
      "machine_shape": "hm",
      "provenance": []
    },
    "environment": {
      "kernel": "python3",
      "name": "common-cu110.m91",
      "type": "gcloud",
      "uri": "gcr.io/deeplearning-platform-release/base-cu110:m91"
    },
    "gpuClass": "standard",
    "kernelspec": {
      "display_name": "Python 3.8.9 64-bit",
      "language": "python",
      "name": "python3"
    },
    "language_info": {
      "codemirror_mode": {
        "name": "ipython",
        "version": 3
      },
      "file_extension": ".py",
      "mimetype": "text/x-python",
      "name": "python",
      "nbconvert_exporter": "python",
      "pygments_lexer": "ipython3",
      "version": "3.8.9"
    },
    "vscode": {
      "interpreter": {
        "hash": "31f2aee4e71d21fbe5cf8b01ff0e069b9275f58929596ceb00d14d90e3e16cd6"
      }
    },
    "widgets": {
      "application/vnd.jupyter.widget-state+json": {
        "eeb61f22548a4a4799aa857d4259c4c4": {
          "model_module": "@jupyter-widgets/controls",
          "model_name": "HBoxModel",
          "model_module_version": "1.5.0",
          "state": {
            "_dom_classes": [],
            "_model_module": "@jupyter-widgets/controls",
            "_model_module_version": "1.5.0",
            "_model_name": "HBoxModel",
            "_view_count": null,
            "_view_module": "@jupyter-widgets/controls",
            "_view_module_version": "1.5.0",
            "_view_name": "HBoxView",
            "box_style": "",
            "children": [
              "IPY_MODEL_cdd398a8828b485cae80b0a962ed9a0f",
              "IPY_MODEL_86a8c2db05814e1f8bbc75f08c78f7db",
              "IPY_MODEL_d457ba77a8e04f438022180ef7c9542c"
            ],
            "layout": "IPY_MODEL_5c5bf01a865544068bc12c577240a8eb"
          }
        },
        "cdd398a8828b485cae80b0a962ed9a0f": {
          "model_module": "@jupyter-widgets/controls",
          "model_name": "HTMLModel",
          "model_module_version": "1.5.0",
          "state": {
            "_dom_classes": [],
            "_model_module": "@jupyter-widgets/controls",
            "_model_module_version": "1.5.0",
            "_model_name": "HTMLModel",
            "_view_count": null,
            "_view_module": "@jupyter-widgets/controls",
            "_view_module_version": "1.5.0",
            "_view_name": "HTMLView",
            "description": "",
            "description_tooltip": null,
            "layout": "IPY_MODEL_d0019ba24ebd49c4b93afaeef3dc668c",
            "placeholder": "​",
            "style": "IPY_MODEL_74807f9d586c4006b6145b3dc6cf32d6",
            "value": "Downloading data files: 100%"
          }
        },
        "86a8c2db05814e1f8bbc75f08c78f7db": {
          "model_module": "@jupyter-widgets/controls",
          "model_name": "FloatProgressModel",
          "model_module_version": "1.5.0",
          "state": {
            "_dom_classes": [],
            "_model_module": "@jupyter-widgets/controls",
            "_model_module_version": "1.5.0",
            "_model_name": "FloatProgressModel",
            "_view_count": null,
            "_view_module": "@jupyter-widgets/controls",
            "_view_module_version": "1.5.0",
            "_view_name": "ProgressView",
            "bar_style": "success",
            "description": "",
            "description_tooltip": null,
            "layout": "IPY_MODEL_bf35aabd6dc84adca856b1756aae9f0b",
            "max": 1,
            "min": 0,
            "orientation": "horizontal",
            "style": "IPY_MODEL_db4c487f7f3c4296a20be27bcaa975f9",
            "value": 1
          }
        },
        "d457ba77a8e04f438022180ef7c9542c": {
          "model_module": "@jupyter-widgets/controls",
          "model_name": "HTMLModel",
          "model_module_version": "1.5.0",
          "state": {
            "_dom_classes": [],
            "_model_module": "@jupyter-widgets/controls",
            "_model_module_version": "1.5.0",
            "_model_name": "HTMLModel",
            "_view_count": null,
            "_view_module": "@jupyter-widgets/controls",
            "_view_module_version": "1.5.0",
            "_view_name": "HTMLView",
            "description": "",
            "description_tooltip": null,
            "layout": "IPY_MODEL_a09135c1d48b4197ab5353ff49e8eeab",
            "placeholder": "​",
            "style": "IPY_MODEL_5927824bb6aa4e548242bd61d5caa710",
            "value": " 1/1 [00:00&lt;00:00, 47.82it/s]"
          }
        },
        "5c5bf01a865544068bc12c577240a8eb": {
          "model_module": "@jupyter-widgets/base",
          "model_name": "LayoutModel",
          "model_module_version": "1.2.0",
          "state": {
            "_model_module": "@jupyter-widgets/base",
            "_model_module_version": "1.2.0",
            "_model_name": "LayoutModel",
            "_view_count": null,
            "_view_module": "@jupyter-widgets/base",
            "_view_module_version": "1.2.0",
            "_view_name": "LayoutView",
            "align_content": null,
            "align_items": null,
            "align_self": null,
            "border": null,
            "bottom": null,
            "display": null,
            "flex": null,
            "flex_flow": null,
            "grid_area": null,
            "grid_auto_columns": null,
            "grid_auto_flow": null,
            "grid_auto_rows": null,
            "grid_column": null,
            "grid_gap": null,
            "grid_row": null,
            "grid_template_areas": null,
            "grid_template_columns": null,
            "grid_template_rows": null,
            "height": null,
            "justify_content": null,
            "justify_items": null,
            "left": null,
            "margin": null,
            "max_height": null,
            "max_width": null,
            "min_height": null,
            "min_width": null,
            "object_fit": null,
            "object_position": null,
            "order": null,
            "overflow": null,
            "overflow_x": null,
            "overflow_y": null,
            "padding": null,
            "right": null,
            "top": null,
            "visibility": null,
            "width": null
          }
        },
        "d0019ba24ebd49c4b93afaeef3dc668c": {
          "model_module": "@jupyter-widgets/base",
          "model_name": "LayoutModel",
          "model_module_version": "1.2.0",
          "state": {
            "_model_module": "@jupyter-widgets/base",
            "_model_module_version": "1.2.0",
            "_model_name": "LayoutModel",
            "_view_count": null,
            "_view_module": "@jupyter-widgets/base",
            "_view_module_version": "1.2.0",
            "_view_name": "LayoutView",
            "align_content": null,
            "align_items": null,
            "align_self": null,
            "border": null,
            "bottom": null,
            "display": null,
            "flex": null,
            "flex_flow": null,
            "grid_area": null,
            "grid_auto_columns": null,
            "grid_auto_flow": null,
            "grid_auto_rows": null,
            "grid_column": null,
            "grid_gap": null,
            "grid_row": null,
            "grid_template_areas": null,
            "grid_template_columns": null,
            "grid_template_rows": null,
            "height": null,
            "justify_content": null,
            "justify_items": null,
            "left": null,
            "margin": null,
            "max_height": null,
            "max_width": null,
            "min_height": null,
            "min_width": null,
            "object_fit": null,
            "object_position": null,
            "order": null,
            "overflow": null,
            "overflow_x": null,
            "overflow_y": null,
            "padding": null,
            "right": null,
            "top": null,
            "visibility": null,
            "width": null
          }
        },
        "74807f9d586c4006b6145b3dc6cf32d6": {
          "model_module": "@jupyter-widgets/controls",
          "model_name": "DescriptionStyleModel",
          "model_module_version": "1.5.0",
          "state": {
            "_model_module": "@jupyter-widgets/controls",
            "_model_module_version": "1.5.0",
            "_model_name": "DescriptionStyleModel",
            "_view_count": null,
            "_view_module": "@jupyter-widgets/base",
            "_view_module_version": "1.2.0",
            "_view_name": "StyleView",
            "description_width": ""
          }
        },
        "bf35aabd6dc84adca856b1756aae9f0b": {
          "model_module": "@jupyter-widgets/base",
          "model_name": "LayoutModel",
          "model_module_version": "1.2.0",
          "state": {
            "_model_module": "@jupyter-widgets/base",
            "_model_module_version": "1.2.0",
            "_model_name": "LayoutModel",
            "_view_count": null,
            "_view_module": "@jupyter-widgets/base",
            "_view_module_version": "1.2.0",
            "_view_name": "LayoutView",
            "align_content": null,
            "align_items": null,
            "align_self": null,
            "border": null,
            "bottom": null,
            "display": null,
            "flex": null,
            "flex_flow": null,
            "grid_area": null,
            "grid_auto_columns": null,
            "grid_auto_flow": null,
            "grid_auto_rows": null,
            "grid_column": null,
            "grid_gap": null,
            "grid_row": null,
            "grid_template_areas": null,
            "grid_template_columns": null,
            "grid_template_rows": null,
            "height": null,
            "justify_content": null,
            "justify_items": null,
            "left": null,
            "margin": null,
            "max_height": null,
            "max_width": null,
            "min_height": null,
            "min_width": null,
            "object_fit": null,
            "object_position": null,
            "order": null,
            "overflow": null,
            "overflow_x": null,
            "overflow_y": null,
            "padding": null,
            "right": null,
            "top": null,
            "visibility": null,
            "width": null
          }
        },
        "db4c487f7f3c4296a20be27bcaa975f9": {
          "model_module": "@jupyter-widgets/controls",
          "model_name": "ProgressStyleModel",
          "model_module_version": "1.5.0",
          "state": {
            "_model_module": "@jupyter-widgets/controls",
            "_model_module_version": "1.5.0",
            "_model_name": "ProgressStyleModel",
            "_view_count": null,
            "_view_module": "@jupyter-widgets/base",
            "_view_module_version": "1.2.0",
            "_view_name": "StyleView",
            "bar_color": null,
            "description_width": ""
          }
        },
        "a09135c1d48b4197ab5353ff49e8eeab": {
          "model_module": "@jupyter-widgets/base",
          "model_name": "LayoutModel",
          "model_module_version": "1.2.0",
          "state": {
            "_model_module": "@jupyter-widgets/base",
            "_model_module_version": "1.2.0",
            "_model_name": "LayoutModel",
            "_view_count": null,
            "_view_module": "@jupyter-widgets/base",
            "_view_module_version": "1.2.0",
            "_view_name": "LayoutView",
            "align_content": null,
            "align_items": null,
            "align_self": null,
            "border": null,
            "bottom": null,
            "display": null,
            "flex": null,
            "flex_flow": null,
            "grid_area": null,
            "grid_auto_columns": null,
            "grid_auto_flow": null,
            "grid_auto_rows": null,
            "grid_column": null,
            "grid_gap": null,
            "grid_row": null,
            "grid_template_areas": null,
            "grid_template_columns": null,
            "grid_template_rows": null,
            "height": null,
            "justify_content": null,
            "justify_items": null,
            "left": null,
            "margin": null,
            "max_height": null,
            "max_width": null,
            "min_height": null,
            "min_width": null,
            "object_fit": null,
            "object_position": null,
            "order": null,
            "overflow": null,
            "overflow_x": null,
            "overflow_y": null,
            "padding": null,
            "right": null,
            "top": null,
            "visibility": null,
            "width": null
          }
        },
        "5927824bb6aa4e548242bd61d5caa710": {
          "model_module": "@jupyter-widgets/controls",
          "model_name": "DescriptionStyleModel",
          "model_module_version": "1.5.0",
          "state": {
            "_model_module": "@jupyter-widgets/controls",
            "_model_module_version": "1.5.0",
            "_model_name": "DescriptionStyleModel",
            "_view_count": null,
            "_view_module": "@jupyter-widgets/base",
            "_view_module_version": "1.2.0",
            "_view_name": "StyleView",
            "description_width": ""
          }
        },
        "00c2241aabf040db9ca3d6da10ca8de7": {
          "model_module": "@jupyter-widgets/controls",
          "model_name": "HBoxModel",
          "model_module_version": "1.5.0",
          "state": {
            "_dom_classes": [],
            "_model_module": "@jupyter-widgets/controls",
            "_model_module_version": "1.5.0",
            "_model_name": "HBoxModel",
            "_view_count": null,
            "_view_module": "@jupyter-widgets/controls",
            "_view_module_version": "1.5.0",
            "_view_name": "HBoxView",
            "box_style": "",
            "children": [
              "IPY_MODEL_8752b7ba16d541bc832e45cadd229fa9",
              "IPY_MODEL_067aed9b7cc244f887a50e695eece898",
              "IPY_MODEL_f96778d0906b49f1a87031869cecbf37"
            ],
            "layout": "IPY_MODEL_850f3e9132dd4f2bb5507974d80a309a"
          }
        },
        "8752b7ba16d541bc832e45cadd229fa9": {
          "model_module": "@jupyter-widgets/controls",
          "model_name": "HTMLModel",
          "model_module_version": "1.5.0",
          "state": {
            "_dom_classes": [],
            "_model_module": "@jupyter-widgets/controls",
            "_model_module_version": "1.5.0",
            "_model_name": "HTMLModel",
            "_view_count": null,
            "_view_module": "@jupyter-widgets/controls",
            "_view_module_version": "1.5.0",
            "_view_name": "HTMLView",
            "description": "",
            "description_tooltip": null,
            "layout": "IPY_MODEL_332b2cc0715046ca984470d932ef097f",
            "placeholder": "​",
            "style": "IPY_MODEL_5b955be2a3724f6da7cfa75a7c91bbf4",
            "value": "Extracting data files: 100%"
          }
        },
        "067aed9b7cc244f887a50e695eece898": {
          "model_module": "@jupyter-widgets/controls",
          "model_name": "FloatProgressModel",
          "model_module_version": "1.5.0",
          "state": {
            "_dom_classes": [],
            "_model_module": "@jupyter-widgets/controls",
            "_model_module_version": "1.5.0",
            "_model_name": "FloatProgressModel",
            "_view_count": null,
            "_view_module": "@jupyter-widgets/controls",
            "_view_module_version": "1.5.0",
            "_view_name": "ProgressView",
            "bar_style": "success",
            "description": "",
            "description_tooltip": null,
            "layout": "IPY_MODEL_da5d8184e6bb49bbbb239fb4c60aec6f",
            "max": 1,
            "min": 0,
            "orientation": "horizontal",
            "style": "IPY_MODEL_6432ee4fc8a7475780fc115296ce1912",
            "value": 1
          }
        },
        "f96778d0906b49f1a87031869cecbf37": {
          "model_module": "@jupyter-widgets/controls",
          "model_name": "HTMLModel",
          "model_module_version": "1.5.0",
          "state": {
            "_dom_classes": [],
            "_model_module": "@jupyter-widgets/controls",
            "_model_module_version": "1.5.0",
            "_model_name": "HTMLModel",
            "_view_count": null,
            "_view_module": "@jupyter-widgets/controls",
            "_view_module_version": "1.5.0",
            "_view_name": "HTMLView",
            "description": "",
            "description_tooltip": null,
            "layout": "IPY_MODEL_4a4c88d9c0984335ae3af681581b743e",
            "placeholder": "​",
            "style": "IPY_MODEL_318f072300384ce6bcfb72c3fe7b07c7",
            "value": " 1/1 [00:00&lt;00:00, 50.10it/s]"
          }
        },
        "850f3e9132dd4f2bb5507974d80a309a": {
          "model_module": "@jupyter-widgets/base",
          "model_name": "LayoutModel",
          "model_module_version": "1.2.0",
          "state": {
            "_model_module": "@jupyter-widgets/base",
            "_model_module_version": "1.2.0",
            "_model_name": "LayoutModel",
            "_view_count": null,
            "_view_module": "@jupyter-widgets/base",
            "_view_module_version": "1.2.0",
            "_view_name": "LayoutView",
            "align_content": null,
            "align_items": null,
            "align_self": null,
            "border": null,
            "bottom": null,
            "display": null,
            "flex": null,
            "flex_flow": null,
            "grid_area": null,
            "grid_auto_columns": null,
            "grid_auto_flow": null,
            "grid_auto_rows": null,
            "grid_column": null,
            "grid_gap": null,
            "grid_row": null,
            "grid_template_areas": null,
            "grid_template_columns": null,
            "grid_template_rows": null,
            "height": null,
            "justify_content": null,
            "justify_items": null,
            "left": null,
            "margin": null,
            "max_height": null,
            "max_width": null,
            "min_height": null,
            "min_width": null,
            "object_fit": null,
            "object_position": null,
            "order": null,
            "overflow": null,
            "overflow_x": null,
            "overflow_y": null,
            "padding": null,
            "right": null,
            "top": null,
            "visibility": null,
            "width": null
          }
        },
        "332b2cc0715046ca984470d932ef097f": {
          "model_module": "@jupyter-widgets/base",
          "model_name": "LayoutModel",
          "model_module_version": "1.2.0",
          "state": {
            "_model_module": "@jupyter-widgets/base",
            "_model_module_version": "1.2.0",
            "_model_name": "LayoutModel",
            "_view_count": null,
            "_view_module": "@jupyter-widgets/base",
            "_view_module_version": "1.2.0",
            "_view_name": "LayoutView",
            "align_content": null,
            "align_items": null,
            "align_self": null,
            "border": null,
            "bottom": null,
            "display": null,
            "flex": null,
            "flex_flow": null,
            "grid_area": null,
            "grid_auto_columns": null,
            "grid_auto_flow": null,
            "grid_auto_rows": null,
            "grid_column": null,
            "grid_gap": null,
            "grid_row": null,
            "grid_template_areas": null,
            "grid_template_columns": null,
            "grid_template_rows": null,
            "height": null,
            "justify_content": null,
            "justify_items": null,
            "left": null,
            "margin": null,
            "max_height": null,
            "max_width": null,
            "min_height": null,
            "min_width": null,
            "object_fit": null,
            "object_position": null,
            "order": null,
            "overflow": null,
            "overflow_x": null,
            "overflow_y": null,
            "padding": null,
            "right": null,
            "top": null,
            "visibility": null,
            "width": null
          }
        },
        "5b955be2a3724f6da7cfa75a7c91bbf4": {
          "model_module": "@jupyter-widgets/controls",
          "model_name": "DescriptionStyleModel",
          "model_module_version": "1.5.0",
          "state": {
            "_model_module": "@jupyter-widgets/controls",
            "_model_module_version": "1.5.0",
            "_model_name": "DescriptionStyleModel",
            "_view_count": null,
            "_view_module": "@jupyter-widgets/base",
            "_view_module_version": "1.2.0",
            "_view_name": "StyleView",
            "description_width": ""
          }
        },
        "da5d8184e6bb49bbbb239fb4c60aec6f": {
          "model_module": "@jupyter-widgets/base",
          "model_name": "LayoutModel",
          "model_module_version": "1.2.0",
          "state": {
            "_model_module": "@jupyter-widgets/base",
            "_model_module_version": "1.2.0",
            "_model_name": "LayoutModel",
            "_view_count": null,
            "_view_module": "@jupyter-widgets/base",
            "_view_module_version": "1.2.0",
            "_view_name": "LayoutView",
            "align_content": null,
            "align_items": null,
            "align_self": null,
            "border": null,
            "bottom": null,
            "display": null,
            "flex": null,
            "flex_flow": null,
            "grid_area": null,
            "grid_auto_columns": null,
            "grid_auto_flow": null,
            "grid_auto_rows": null,
            "grid_column": null,
            "grid_gap": null,
            "grid_row": null,
            "grid_template_areas": null,
            "grid_template_columns": null,
            "grid_template_rows": null,
            "height": null,
            "justify_content": null,
            "justify_items": null,
            "left": null,
            "margin": null,
            "max_height": null,
            "max_width": null,
            "min_height": null,
            "min_width": null,
            "object_fit": null,
            "object_position": null,
            "order": null,
            "overflow": null,
            "overflow_x": null,
            "overflow_y": null,
            "padding": null,
            "right": null,
            "top": null,
            "visibility": null,
            "width": null
          }
        },
        "6432ee4fc8a7475780fc115296ce1912": {
          "model_module": "@jupyter-widgets/controls",
          "model_name": "ProgressStyleModel",
          "model_module_version": "1.5.0",
          "state": {
            "_model_module": "@jupyter-widgets/controls",
            "_model_module_version": "1.5.0",
            "_model_name": "ProgressStyleModel",
            "_view_count": null,
            "_view_module": "@jupyter-widgets/base",
            "_view_module_version": "1.2.0",
            "_view_name": "StyleView",
            "bar_color": null,
            "description_width": ""
          }
        },
        "4a4c88d9c0984335ae3af681581b743e": {
          "model_module": "@jupyter-widgets/base",
          "model_name": "LayoutModel",
          "model_module_version": "1.2.0",
          "state": {
            "_model_module": "@jupyter-widgets/base",
            "_model_module_version": "1.2.0",
            "_model_name": "LayoutModel",
            "_view_count": null,
            "_view_module": "@jupyter-widgets/base",
            "_view_module_version": "1.2.0",
            "_view_name": "LayoutView",
            "align_content": null,
            "align_items": null,
            "align_self": null,
            "border": null,
            "bottom": null,
            "display": null,
            "flex": null,
            "flex_flow": null,
            "grid_area": null,
            "grid_auto_columns": null,
            "grid_auto_flow": null,
            "grid_auto_rows": null,
            "grid_column": null,
            "grid_gap": null,
            "grid_row": null,
            "grid_template_areas": null,
            "grid_template_columns": null,
            "grid_template_rows": null,
            "height": null,
            "justify_content": null,
            "justify_items": null,
            "left": null,
            "margin": null,
            "max_height": null,
            "max_width": null,
            "min_height": null,
            "min_width": null,
            "object_fit": null,
            "object_position": null,
            "order": null,
            "overflow": null,
            "overflow_x": null,
            "overflow_y": null,
            "padding": null,
            "right": null,
            "top": null,
            "visibility": null,
            "width": null
          }
        },
        "318f072300384ce6bcfb72c3fe7b07c7": {
          "model_module": "@jupyter-widgets/controls",
          "model_name": "DescriptionStyleModel",
          "model_module_version": "1.5.0",
          "state": {
            "_model_module": "@jupyter-widgets/controls",
            "_model_module_version": "1.5.0",
            "_model_name": "DescriptionStyleModel",
            "_view_count": null,
            "_view_module": "@jupyter-widgets/base",
            "_view_module_version": "1.2.0",
            "_view_name": "StyleView",
            "description_width": ""
          }
        },
        "9d1f6dd9b3714bdba35235455ea9e8ae": {
          "model_module": "@jupyter-widgets/controls",
          "model_name": "HBoxModel",
          "model_module_version": "1.5.0",
          "state": {
            "_dom_classes": [],
            "_model_module": "@jupyter-widgets/controls",
            "_model_module_version": "1.5.0",
            "_model_name": "HBoxModel",
            "_view_count": null,
            "_view_module": "@jupyter-widgets/controls",
            "_view_module_version": "1.5.0",
            "_view_name": "HBoxView",
            "box_style": "",
            "children": [
              "IPY_MODEL_0e1df629efeb4c2ba889adb45bd554b2",
              "IPY_MODEL_4bc19fa103434aa5a91becdf6b9e3f9f",
              "IPY_MODEL_f3e33ee256804d71bb35d180072b6810"
            ],
            "layout": "IPY_MODEL_59d8394e5fed4114a9892d1ed8e4e564"
          }
        },
        "0e1df629efeb4c2ba889adb45bd554b2": {
          "model_module": "@jupyter-widgets/controls",
          "model_name": "HTMLModel",
          "model_module_version": "1.5.0",
          "state": {
            "_dom_classes": [],
            "_model_module": "@jupyter-widgets/controls",
            "_model_module_version": "1.5.0",
            "_model_name": "HTMLModel",
            "_view_count": null,
            "_view_module": "@jupyter-widgets/controls",
            "_view_module_version": "1.5.0",
            "_view_name": "HTMLView",
            "description": "",
            "description_tooltip": null,
            "layout": "IPY_MODEL_0ce5adc929b740e28f2eb4e1775dc404",
            "placeholder": "​",
            "style": "IPY_MODEL_e33fe216bf484c9cb97a8cc31a02c8e2",
            "value": "Generating train split: "
          }
        },
        "4bc19fa103434aa5a91becdf6b9e3f9f": {
          "model_module": "@jupyter-widgets/controls",
          "model_name": "FloatProgressModel",
          "model_module_version": "1.5.0",
          "state": {
            "_dom_classes": [],
            "_model_module": "@jupyter-widgets/controls",
            "_model_module_version": "1.5.0",
            "_model_name": "FloatProgressModel",
            "_view_count": null,
            "_view_module": "@jupyter-widgets/controls",
            "_view_module_version": "1.5.0",
            "_view_name": "ProgressView",
            "bar_style": "info",
            "description": "",
            "description_tooltip": null,
            "layout": "IPY_MODEL_0f36ea2a90b1485db58ee57013b031a0",
            "max": 1,
            "min": 0,
            "orientation": "horizontal",
            "style": "IPY_MODEL_0a47347c35a849f6b1c9e85d0e04cf25",
            "value": 1
          }
        },
        "f3e33ee256804d71bb35d180072b6810": {
          "model_module": "@jupyter-widgets/controls",
          "model_name": "HTMLModel",
          "model_module_version": "1.5.0",
          "state": {
            "_dom_classes": [],
            "_model_module": "@jupyter-widgets/controls",
            "_model_module_version": "1.5.0",
            "_model_name": "HTMLModel",
            "_view_count": null,
            "_view_module": "@jupyter-widgets/controls",
            "_view_module_version": "1.5.0",
            "_view_name": "HTMLView",
            "description": "",
            "description_tooltip": null,
            "layout": "IPY_MODEL_9bc0490256ed4aed9c2dd6e80206b963",
            "placeholder": "​",
            "style": "IPY_MODEL_b06dc531b30a422b9b7816199138b0c9",
            "value": " 11873/0 [00:15&lt;00:00, 63555.84 examples/s]"
          }
        },
        "59d8394e5fed4114a9892d1ed8e4e564": {
          "model_module": "@jupyter-widgets/base",
          "model_name": "LayoutModel",
          "model_module_version": "1.2.0",
          "state": {
            "_model_module": "@jupyter-widgets/base",
            "_model_module_version": "1.2.0",
            "_model_name": "LayoutModel",
            "_view_count": null,
            "_view_module": "@jupyter-widgets/base",
            "_view_module_version": "1.2.0",
            "_view_name": "LayoutView",
            "align_content": null,
            "align_items": null,
            "align_self": null,
            "border": null,
            "bottom": null,
            "display": null,
            "flex": null,
            "flex_flow": null,
            "grid_area": null,
            "grid_auto_columns": null,
            "grid_auto_flow": null,
            "grid_auto_rows": null,
            "grid_column": null,
            "grid_gap": null,
            "grid_row": null,
            "grid_template_areas": null,
            "grid_template_columns": null,
            "grid_template_rows": null,
            "height": null,
            "justify_content": null,
            "justify_items": null,
            "left": null,
            "margin": null,
            "max_height": null,
            "max_width": null,
            "min_height": null,
            "min_width": null,
            "object_fit": null,
            "object_position": null,
            "order": null,
            "overflow": null,
            "overflow_x": null,
            "overflow_y": null,
            "padding": null,
            "right": null,
            "top": null,
            "visibility": "hidden",
            "width": null
          }
        },
        "0ce5adc929b740e28f2eb4e1775dc404": {
          "model_module": "@jupyter-widgets/base",
          "model_name": "LayoutModel",
          "model_module_version": "1.2.0",
          "state": {
            "_model_module": "@jupyter-widgets/base",
            "_model_module_version": "1.2.0",
            "_model_name": "LayoutModel",
            "_view_count": null,
            "_view_module": "@jupyter-widgets/base",
            "_view_module_version": "1.2.0",
            "_view_name": "LayoutView",
            "align_content": null,
            "align_items": null,
            "align_self": null,
            "border": null,
            "bottom": null,
            "display": null,
            "flex": null,
            "flex_flow": null,
            "grid_area": null,
            "grid_auto_columns": null,
            "grid_auto_flow": null,
            "grid_auto_rows": null,
            "grid_column": null,
            "grid_gap": null,
            "grid_row": null,
            "grid_template_areas": null,
            "grid_template_columns": null,
            "grid_template_rows": null,
            "height": null,
            "justify_content": null,
            "justify_items": null,
            "left": null,
            "margin": null,
            "max_height": null,
            "max_width": null,
            "min_height": null,
            "min_width": null,
            "object_fit": null,
            "object_position": null,
            "order": null,
            "overflow": null,
            "overflow_x": null,
            "overflow_y": null,
            "padding": null,
            "right": null,
            "top": null,
            "visibility": null,
            "width": null
          }
        },
        "e33fe216bf484c9cb97a8cc31a02c8e2": {
          "model_module": "@jupyter-widgets/controls",
          "model_name": "DescriptionStyleModel",
          "model_module_version": "1.5.0",
          "state": {
            "_model_module": "@jupyter-widgets/controls",
            "_model_module_version": "1.5.0",
            "_model_name": "DescriptionStyleModel",
            "_view_count": null,
            "_view_module": "@jupyter-widgets/base",
            "_view_module_version": "1.2.0",
            "_view_name": "StyleView",
            "description_width": ""
          }
        },
        "0f36ea2a90b1485db58ee57013b031a0": {
          "model_module": "@jupyter-widgets/base",
          "model_name": "LayoutModel",
          "model_module_version": "1.2.0",
          "state": {
            "_model_module": "@jupyter-widgets/base",
            "_model_module_version": "1.2.0",
            "_model_name": "LayoutModel",
            "_view_count": null,
            "_view_module": "@jupyter-widgets/base",
            "_view_module_version": "1.2.0",
            "_view_name": "LayoutView",
            "align_content": null,
            "align_items": null,
            "align_self": null,
            "border": null,
            "bottom": null,
            "display": null,
            "flex": null,
            "flex_flow": null,
            "grid_area": null,
            "grid_auto_columns": null,
            "grid_auto_flow": null,
            "grid_auto_rows": null,
            "grid_column": null,
            "grid_gap": null,
            "grid_row": null,
            "grid_template_areas": null,
            "grid_template_columns": null,
            "grid_template_rows": null,
            "height": null,
            "justify_content": null,
            "justify_items": null,
            "left": null,
            "margin": null,
            "max_height": null,
            "max_width": null,
            "min_height": null,
            "min_width": null,
            "object_fit": null,
            "object_position": null,
            "order": null,
            "overflow": null,
            "overflow_x": null,
            "overflow_y": null,
            "padding": null,
            "right": null,
            "top": null,
            "visibility": null,
            "width": "20px"
          }
        },
        "0a47347c35a849f6b1c9e85d0e04cf25": {
          "model_module": "@jupyter-widgets/controls",
          "model_name": "ProgressStyleModel",
          "model_module_version": "1.5.0",
          "state": {
            "_model_module": "@jupyter-widgets/controls",
            "_model_module_version": "1.5.0",
            "_model_name": "ProgressStyleModel",
            "_view_count": null,
            "_view_module": "@jupyter-widgets/base",
            "_view_module_version": "1.2.0",
            "_view_name": "StyleView",
            "bar_color": null,
            "description_width": ""
          }
        },
        "9bc0490256ed4aed9c2dd6e80206b963": {
          "model_module": "@jupyter-widgets/base",
          "model_name": "LayoutModel",
          "model_module_version": "1.2.0",
          "state": {
            "_model_module": "@jupyter-widgets/base",
            "_model_module_version": "1.2.0",
            "_model_name": "LayoutModel",
            "_view_count": null,
            "_view_module": "@jupyter-widgets/base",
            "_view_module_version": "1.2.0",
            "_view_name": "LayoutView",
            "align_content": null,
            "align_items": null,
            "align_self": null,
            "border": null,
            "bottom": null,
            "display": null,
            "flex": null,
            "flex_flow": null,
            "grid_area": null,
            "grid_auto_columns": null,
            "grid_auto_flow": null,
            "grid_auto_rows": null,
            "grid_column": null,
            "grid_gap": null,
            "grid_row": null,
            "grid_template_areas": null,
            "grid_template_columns": null,
            "grid_template_rows": null,
            "height": null,
            "justify_content": null,
            "justify_items": null,
            "left": null,
            "margin": null,
            "max_height": null,
            "max_width": null,
            "min_height": null,
            "min_width": null,
            "object_fit": null,
            "object_position": null,
            "order": null,
            "overflow": null,
            "overflow_x": null,
            "overflow_y": null,
            "padding": null,
            "right": null,
            "top": null,
            "visibility": null,
            "width": null
          }
        },
        "b06dc531b30a422b9b7816199138b0c9": {
          "model_module": "@jupyter-widgets/controls",
          "model_name": "DescriptionStyleModel",
          "model_module_version": "1.5.0",
          "state": {
            "_model_module": "@jupyter-widgets/controls",
            "_model_module_version": "1.5.0",
            "_model_name": "DescriptionStyleModel",
            "_view_count": null,
            "_view_module": "@jupyter-widgets/base",
            "_view_module_version": "1.2.0",
            "_view_name": "StyleView",
            "description_width": ""
          }
        },
        "a953e79e52474e8bb4f469fdaa3d085d": {
          "model_module": "@jupyter-widgets/controls",
          "model_name": "HBoxModel",
          "model_module_version": "1.5.0",
          "state": {
            "_dom_classes": [],
            "_model_module": "@jupyter-widgets/controls",
            "_model_module_version": "1.5.0",
            "_model_name": "HBoxModel",
            "_view_count": null,
            "_view_module": "@jupyter-widgets/controls",
            "_view_module_version": "1.5.0",
            "_view_name": "HBoxView",
            "box_style": "",
            "children": [
              "IPY_MODEL_a7b24f7092254275939d18917a8ca023",
              "IPY_MODEL_f047f25f895447789b4175eb76ac88a7",
              "IPY_MODEL_c3656d483cbc4e3a84a55ccbb3712492"
            ],
            "layout": "IPY_MODEL_73997a8eff634bf981e31652ee0a99f3"
          }
        },
        "a7b24f7092254275939d18917a8ca023": {
          "model_module": "@jupyter-widgets/controls",
          "model_name": "HTMLModel",
          "model_module_version": "1.5.0",
          "state": {
            "_dom_classes": [],
            "_model_module": "@jupyter-widgets/controls",
            "_model_module_version": "1.5.0",
            "_model_name": "HTMLModel",
            "_view_count": null,
            "_view_module": "@jupyter-widgets/controls",
            "_view_module_version": "1.5.0",
            "_view_name": "HTMLView",
            "description": "",
            "description_tooltip": null,
            "layout": "IPY_MODEL_a06332c25ebc4b448a1776d7362abd0a",
            "placeholder": "​",
            "style": "IPY_MODEL_eed7e8eeba9948bf974961389ccb3cab",
            "value": "100%"
          }
        },
        "f047f25f895447789b4175eb76ac88a7": {
          "model_module": "@jupyter-widgets/controls",
          "model_name": "FloatProgressModel",
          "model_module_version": "1.5.0",
          "state": {
            "_dom_classes": [],
            "_model_module": "@jupyter-widgets/controls",
            "_model_module_version": "1.5.0",
            "_model_name": "FloatProgressModel",
            "_view_count": null,
            "_view_module": "@jupyter-widgets/controls",
            "_view_module_version": "1.5.0",
            "_view_name": "ProgressView",
            "bar_style": "success",
            "description": "",
            "description_tooltip": null,
            "layout": "IPY_MODEL_3a16cf977aac4a8ebfdbe2476625c82d",
            "max": 38,
            "min": 0,
            "orientation": "horizontal",
            "style": "IPY_MODEL_155f3dbf007744a49f955b7b4910dfca",
            "value": 38
          }
        },
        "c3656d483cbc4e3a84a55ccbb3712492": {
          "model_module": "@jupyter-widgets/controls",
          "model_name": "HTMLModel",
          "model_module_version": "1.5.0",
          "state": {
            "_dom_classes": [],
            "_model_module": "@jupyter-widgets/controls",
            "_model_module_version": "1.5.0",
            "_model_name": "HTMLModel",
            "_view_count": null,
            "_view_module": "@jupyter-widgets/controls",
            "_view_module_version": "1.5.0",
            "_view_name": "HTMLView",
            "description": "",
            "description_tooltip": null,
            "layout": "IPY_MODEL_d103b464a3484dbcb02ea5137146f2c1",
            "placeholder": "​",
            "style": "IPY_MODEL_d4a94f5899e64e1997a58fefbf7cd766",
            "value": " 38/38 [01:09&lt;00:00,  1.66s/it]"
          }
        },
        "73997a8eff634bf981e31652ee0a99f3": {
          "model_module": "@jupyter-widgets/base",
          "model_name": "LayoutModel",
          "model_module_version": "1.2.0",
          "state": {
            "_model_module": "@jupyter-widgets/base",
            "_model_module_version": "1.2.0",
            "_model_name": "LayoutModel",
            "_view_count": null,
            "_view_module": "@jupyter-widgets/base",
            "_view_module_version": "1.2.0",
            "_view_name": "LayoutView",
            "align_content": null,
            "align_items": null,
            "align_self": null,
            "border": null,
            "bottom": null,
            "display": null,
            "flex": null,
            "flex_flow": null,
            "grid_area": null,
            "grid_auto_columns": null,
            "grid_auto_flow": null,
            "grid_auto_rows": null,
            "grid_column": null,
            "grid_gap": null,
            "grid_row": null,
            "grid_template_areas": null,
            "grid_template_columns": null,
            "grid_template_rows": null,
            "height": null,
            "justify_content": null,
            "justify_items": null,
            "left": null,
            "margin": null,
            "max_height": null,
            "max_width": null,
            "min_height": null,
            "min_width": null,
            "object_fit": null,
            "object_position": null,
            "order": null,
            "overflow": null,
            "overflow_x": null,
            "overflow_y": null,
            "padding": null,
            "right": null,
            "top": null,
            "visibility": null,
            "width": null
          }
        },
        "a06332c25ebc4b448a1776d7362abd0a": {
          "model_module": "@jupyter-widgets/base",
          "model_name": "LayoutModel",
          "model_module_version": "1.2.0",
          "state": {
            "_model_module": "@jupyter-widgets/base",
            "_model_module_version": "1.2.0",
            "_model_name": "LayoutModel",
            "_view_count": null,
            "_view_module": "@jupyter-widgets/base",
            "_view_module_version": "1.2.0",
            "_view_name": "LayoutView",
            "align_content": null,
            "align_items": null,
            "align_self": null,
            "border": null,
            "bottom": null,
            "display": null,
            "flex": null,
            "flex_flow": null,
            "grid_area": null,
            "grid_auto_columns": null,
            "grid_auto_flow": null,
            "grid_auto_rows": null,
            "grid_column": null,
            "grid_gap": null,
            "grid_row": null,
            "grid_template_areas": null,
            "grid_template_columns": null,
            "grid_template_rows": null,
            "height": null,
            "justify_content": null,
            "justify_items": null,
            "left": null,
            "margin": null,
            "max_height": null,
            "max_width": null,
            "min_height": null,
            "min_width": null,
            "object_fit": null,
            "object_position": null,
            "order": null,
            "overflow": null,
            "overflow_x": null,
            "overflow_y": null,
            "padding": null,
            "right": null,
            "top": null,
            "visibility": null,
            "width": null
          }
        },
        "eed7e8eeba9948bf974961389ccb3cab": {
          "model_module": "@jupyter-widgets/controls",
          "model_name": "DescriptionStyleModel",
          "model_module_version": "1.5.0",
          "state": {
            "_model_module": "@jupyter-widgets/controls",
            "_model_module_version": "1.5.0",
            "_model_name": "DescriptionStyleModel",
            "_view_count": null,
            "_view_module": "@jupyter-widgets/base",
            "_view_module_version": "1.2.0",
            "_view_name": "StyleView",
            "description_width": ""
          }
        },
        "3a16cf977aac4a8ebfdbe2476625c82d": {
          "model_module": "@jupyter-widgets/base",
          "model_name": "LayoutModel",
          "model_module_version": "1.2.0",
          "state": {
            "_model_module": "@jupyter-widgets/base",
            "_model_module_version": "1.2.0",
            "_model_name": "LayoutModel",
            "_view_count": null,
            "_view_module": "@jupyter-widgets/base",
            "_view_module_version": "1.2.0",
            "_view_name": "LayoutView",
            "align_content": null,
            "align_items": null,
            "align_self": null,
            "border": null,
            "bottom": null,
            "display": null,
            "flex": null,
            "flex_flow": null,
            "grid_area": null,
            "grid_auto_columns": null,
            "grid_auto_flow": null,
            "grid_auto_rows": null,
            "grid_column": null,
            "grid_gap": null,
            "grid_row": null,
            "grid_template_areas": null,
            "grid_template_columns": null,
            "grid_template_rows": null,
            "height": null,
            "justify_content": null,
            "justify_items": null,
            "left": null,
            "margin": null,
            "max_height": null,
            "max_width": null,
            "min_height": null,
            "min_width": null,
            "object_fit": null,
            "object_position": null,
            "order": null,
            "overflow": null,
            "overflow_x": null,
            "overflow_y": null,
            "padding": null,
            "right": null,
            "top": null,
            "visibility": null,
            "width": null
          }
        },
        "155f3dbf007744a49f955b7b4910dfca": {
          "model_module": "@jupyter-widgets/controls",
          "model_name": "ProgressStyleModel",
          "model_module_version": "1.5.0",
          "state": {
            "_model_module": "@jupyter-widgets/controls",
            "_model_module_version": "1.5.0",
            "_model_name": "ProgressStyleModel",
            "_view_count": null,
            "_view_module": "@jupyter-widgets/base",
            "_view_module_version": "1.2.0",
            "_view_name": "StyleView",
            "bar_color": null,
            "description_width": ""
          }
        },
        "d103b464a3484dbcb02ea5137146f2c1": {
          "model_module": "@jupyter-widgets/base",
          "model_name": "LayoutModel",
          "model_module_version": "1.2.0",
          "state": {
            "_model_module": "@jupyter-widgets/base",
            "_model_module_version": "1.2.0",
            "_model_name": "LayoutModel",
            "_view_count": null,
            "_view_module": "@jupyter-widgets/base",
            "_view_module_version": "1.2.0",
            "_view_name": "LayoutView",
            "align_content": null,
            "align_items": null,
            "align_self": null,
            "border": null,
            "bottom": null,
            "display": null,
            "flex": null,
            "flex_flow": null,
            "grid_area": null,
            "grid_auto_columns": null,
            "grid_auto_flow": null,
            "grid_auto_rows": null,
            "grid_column": null,
            "grid_gap": null,
            "grid_row": null,
            "grid_template_areas": null,
            "grid_template_columns": null,
            "grid_template_rows": null,
            "height": null,
            "justify_content": null,
            "justify_items": null,
            "left": null,
            "margin": null,
            "max_height": null,
            "max_width": null,
            "min_height": null,
            "min_width": null,
            "object_fit": null,
            "object_position": null,
            "order": null,
            "overflow": null,
            "overflow_x": null,
            "overflow_y": null,
            "padding": null,
            "right": null,
            "top": null,
            "visibility": null,
            "width": null
          }
        },
        "d4a94f5899e64e1997a58fefbf7cd766": {
          "model_module": "@jupyter-widgets/controls",
          "model_name": "DescriptionStyleModel",
          "model_module_version": "1.5.0",
          "state": {
            "_model_module": "@jupyter-widgets/controls",
            "_model_module_version": "1.5.0",
            "_model_name": "DescriptionStyleModel",
            "_view_count": null,
            "_view_module": "@jupyter-widgets/base",
            "_view_module_version": "1.2.0",
            "_view_name": "StyleView",
            "description_width": ""
          }
        },
        "f07d7617ac584a4ca8ba4484e94395a3": {
          "model_module": "@jupyter-widgets/controls",
          "model_name": "HBoxModel",
          "model_module_version": "1.5.0",
          "state": {
            "_dom_classes": [],
            "_model_module": "@jupyter-widgets/controls",
            "_model_module_version": "1.5.0",
            "_model_name": "HBoxModel",
            "_view_count": null,
            "_view_module": "@jupyter-widgets/controls",
            "_view_module_version": "1.5.0",
            "_view_name": "HBoxView",
            "box_style": "",
            "children": [
              "IPY_MODEL_70ff26070acf4298b05f2e9ee868298c",
              "IPY_MODEL_b970b1fb6f884ea881aef076a0a46811",
              "IPY_MODEL_23b5205e99cd424a829da79f78180471"
            ],
            "layout": "IPY_MODEL_4ff65d233f6346ce80f531512630927d"
          }
        },
        "70ff26070acf4298b05f2e9ee868298c": {
          "model_module": "@jupyter-widgets/controls",
          "model_name": "HTMLModel",
          "model_module_version": "1.5.0",
          "state": {
            "_dom_classes": [],
            "_model_module": "@jupyter-widgets/controls",
            "_model_module_version": "1.5.0",
            "_model_name": "HTMLModel",
            "_view_count": null,
            "_view_module": "@jupyter-widgets/controls",
            "_view_module_version": "1.5.0",
            "_view_name": "HTMLView",
            "description": "",
            "description_tooltip": null,
            "layout": "IPY_MODEL_76e858904a36475c969e56807e5edc89",
            "placeholder": "​",
            "style": "IPY_MODEL_3ce5d80ae6df4e4caa1e32bd3f1431b1",
            "value": "Epoch: 100%"
          }
        },
        "b970b1fb6f884ea881aef076a0a46811": {
          "model_module": "@jupyter-widgets/controls",
          "model_name": "FloatProgressModel",
          "model_module_version": "1.5.0",
          "state": {
            "_dom_classes": [],
            "_model_module": "@jupyter-widgets/controls",
            "_model_module_version": "1.5.0",
            "_model_name": "FloatProgressModel",
            "_view_count": null,
            "_view_module": "@jupyter-widgets/controls",
            "_view_module_version": "1.5.0",
            "_view_name": "ProgressView",
            "bar_style": "success",
            "description": "",
            "description_tooltip": null,
            "layout": "IPY_MODEL_cc4a1cac632d496ebff32625f12ecbca",
            "max": 1,
            "min": 0,
            "orientation": "horizontal",
            "style": "IPY_MODEL_d99e358af42e4231b1542a36b541e3ca",
            "value": 1
          }
        },
        "23b5205e99cd424a829da79f78180471": {
          "model_module": "@jupyter-widgets/controls",
          "model_name": "HTMLModel",
          "model_module_version": "1.5.0",
          "state": {
            "_dom_classes": [],
            "_model_module": "@jupyter-widgets/controls",
            "_model_module_version": "1.5.0",
            "_model_name": "HTMLModel",
            "_view_count": null,
            "_view_module": "@jupyter-widgets/controls",
            "_view_module_version": "1.5.0",
            "_view_name": "HTMLView",
            "description": "",
            "description_tooltip": null,
            "layout": "IPY_MODEL_7cea07d21d7a461794702b6a3a5a863b",
            "placeholder": "​",
            "style": "IPY_MODEL_cb9b9a6b1bf54f07a2e6942c335c775e",
            "value": " 1/1 [09:25&lt;00:00, 565.27s/it]"
          }
        },
        "4ff65d233f6346ce80f531512630927d": {
          "model_module": "@jupyter-widgets/base",
          "model_name": "LayoutModel",
          "model_module_version": "1.2.0",
          "state": {
            "_model_module": "@jupyter-widgets/base",
            "_model_module_version": "1.2.0",
            "_model_name": "LayoutModel",
            "_view_count": null,
            "_view_module": "@jupyter-widgets/base",
            "_view_module_version": "1.2.0",
            "_view_name": "LayoutView",
            "align_content": null,
            "align_items": null,
            "align_self": null,
            "border": null,
            "bottom": null,
            "display": null,
            "flex": null,
            "flex_flow": null,
            "grid_area": null,
            "grid_auto_columns": null,
            "grid_auto_flow": null,
            "grid_auto_rows": null,
            "grid_column": null,
            "grid_gap": null,
            "grid_row": null,
            "grid_template_areas": null,
            "grid_template_columns": null,
            "grid_template_rows": null,
            "height": null,
            "justify_content": null,
            "justify_items": null,
            "left": null,
            "margin": null,
            "max_height": null,
            "max_width": null,
            "min_height": null,
            "min_width": null,
            "object_fit": null,
            "object_position": null,
            "order": null,
            "overflow": null,
            "overflow_x": null,
            "overflow_y": null,
            "padding": null,
            "right": null,
            "top": null,
            "visibility": null,
            "width": null
          }
        },
        "76e858904a36475c969e56807e5edc89": {
          "model_module": "@jupyter-widgets/base",
          "model_name": "LayoutModel",
          "model_module_version": "1.2.0",
          "state": {
            "_model_module": "@jupyter-widgets/base",
            "_model_module_version": "1.2.0",
            "_model_name": "LayoutModel",
            "_view_count": null,
            "_view_module": "@jupyter-widgets/base",
            "_view_module_version": "1.2.0",
            "_view_name": "LayoutView",
            "align_content": null,
            "align_items": null,
            "align_self": null,
            "border": null,
            "bottom": null,
            "display": null,
            "flex": null,
            "flex_flow": null,
            "grid_area": null,
            "grid_auto_columns": null,
            "grid_auto_flow": null,
            "grid_auto_rows": null,
            "grid_column": null,
            "grid_gap": null,
            "grid_row": null,
            "grid_template_areas": null,
            "grid_template_columns": null,
            "grid_template_rows": null,
            "height": null,
            "justify_content": null,
            "justify_items": null,
            "left": null,
            "margin": null,
            "max_height": null,
            "max_width": null,
            "min_height": null,
            "min_width": null,
            "object_fit": null,
            "object_position": null,
            "order": null,
            "overflow": null,
            "overflow_x": null,
            "overflow_y": null,
            "padding": null,
            "right": null,
            "top": null,
            "visibility": null,
            "width": null
          }
        },
        "3ce5d80ae6df4e4caa1e32bd3f1431b1": {
          "model_module": "@jupyter-widgets/controls",
          "model_name": "DescriptionStyleModel",
          "model_module_version": "1.5.0",
          "state": {
            "_model_module": "@jupyter-widgets/controls",
            "_model_module_version": "1.5.0",
            "_model_name": "DescriptionStyleModel",
            "_view_count": null,
            "_view_module": "@jupyter-widgets/base",
            "_view_module_version": "1.2.0",
            "_view_name": "StyleView",
            "description_width": ""
          }
        },
        "cc4a1cac632d496ebff32625f12ecbca": {
          "model_module": "@jupyter-widgets/base",
          "model_name": "LayoutModel",
          "model_module_version": "1.2.0",
          "state": {
            "_model_module": "@jupyter-widgets/base",
            "_model_module_version": "1.2.0",
            "_model_name": "LayoutModel",
            "_view_count": null,
            "_view_module": "@jupyter-widgets/base",
            "_view_module_version": "1.2.0",
            "_view_name": "LayoutView",
            "align_content": null,
            "align_items": null,
            "align_self": null,
            "border": null,
            "bottom": null,
            "display": null,
            "flex": null,
            "flex_flow": null,
            "grid_area": null,
            "grid_auto_columns": null,
            "grid_auto_flow": null,
            "grid_auto_rows": null,
            "grid_column": null,
            "grid_gap": null,
            "grid_row": null,
            "grid_template_areas": null,
            "grid_template_columns": null,
            "grid_template_rows": null,
            "height": null,
            "justify_content": null,
            "justify_items": null,
            "left": null,
            "margin": null,
            "max_height": null,
            "max_width": null,
            "min_height": null,
            "min_width": null,
            "object_fit": null,
            "object_position": null,
            "order": null,
            "overflow": null,
            "overflow_x": null,
            "overflow_y": null,
            "padding": null,
            "right": null,
            "top": null,
            "visibility": null,
            "width": null
          }
        },
        "d99e358af42e4231b1542a36b541e3ca": {
          "model_module": "@jupyter-widgets/controls",
          "model_name": "ProgressStyleModel",
          "model_module_version": "1.5.0",
          "state": {
            "_model_module": "@jupyter-widgets/controls",
            "_model_module_version": "1.5.0",
            "_model_name": "ProgressStyleModel",
            "_view_count": null,
            "_view_module": "@jupyter-widgets/base",
            "_view_module_version": "1.2.0",
            "_view_name": "StyleView",
            "bar_color": null,
            "description_width": ""
          }
        },
        "7cea07d21d7a461794702b6a3a5a863b": {
          "model_module": "@jupyter-widgets/base",
          "model_name": "LayoutModel",
          "model_module_version": "1.2.0",
          "state": {
            "_model_module": "@jupyter-widgets/base",
            "_model_module_version": "1.2.0",
            "_model_name": "LayoutModel",
            "_view_count": null,
            "_view_module": "@jupyter-widgets/base",
            "_view_module_version": "1.2.0",
            "_view_name": "LayoutView",
            "align_content": null,
            "align_items": null,
            "align_self": null,
            "border": null,
            "bottom": null,
            "display": null,
            "flex": null,
            "flex_flow": null,
            "grid_area": null,
            "grid_auto_columns": null,
            "grid_auto_flow": null,
            "grid_auto_rows": null,
            "grid_column": null,
            "grid_gap": null,
            "grid_row": null,
            "grid_template_areas": null,
            "grid_template_columns": null,
            "grid_template_rows": null,
            "height": null,
            "justify_content": null,
            "justify_items": null,
            "left": null,
            "margin": null,
            "max_height": null,
            "max_width": null,
            "min_height": null,
            "min_width": null,
            "object_fit": null,
            "object_position": null,
            "order": null,
            "overflow": null,
            "overflow_x": null,
            "overflow_y": null,
            "padding": null,
            "right": null,
            "top": null,
            "visibility": null,
            "width": null
          }
        },
        "cb9b9a6b1bf54f07a2e6942c335c775e": {
          "model_module": "@jupyter-widgets/controls",
          "model_name": "DescriptionStyleModel",
          "model_module_version": "1.5.0",
          "state": {
            "_model_module": "@jupyter-widgets/controls",
            "_model_module_version": "1.5.0",
            "_model_name": "DescriptionStyleModel",
            "_view_count": null,
            "_view_module": "@jupyter-widgets/base",
            "_view_module_version": "1.2.0",
            "_view_name": "StyleView",
            "description_width": ""
          }
        },
        "d3371fbceea64e6192e11853083dbc8c": {
          "model_module": "@jupyter-widgets/controls",
          "model_name": "HBoxModel",
          "model_module_version": "1.5.0",
          "state": {
            "_dom_classes": [],
            "_model_module": "@jupyter-widgets/controls",
            "_model_module_version": "1.5.0",
            "_model_name": "HBoxModel",
            "_view_count": null,
            "_view_module": "@jupyter-widgets/controls",
            "_view_module_version": "1.5.0",
            "_view_name": "HBoxView",
            "box_style": "",
            "children": [
              "IPY_MODEL_2ac38d01a90848f598ccd4454e15455c",
              "IPY_MODEL_c49a8dcc0d5d4e4c8023d5344880e9eb",
              "IPY_MODEL_6047abe27ffb4ff296dea8be3c7d566f"
            ],
            "layout": "IPY_MODEL_8693a2c55ea94479816b8c5062eb6863"
          }
        },
        "2ac38d01a90848f598ccd4454e15455c": {
          "model_module": "@jupyter-widgets/controls",
          "model_name": "HTMLModel",
          "model_module_version": "1.5.0",
          "state": {
            "_dom_classes": [],
            "_model_module": "@jupyter-widgets/controls",
            "_model_module_version": "1.5.0",
            "_model_name": "HTMLModel",
            "_view_count": null,
            "_view_module": "@jupyter-widgets/controls",
            "_view_module_version": "1.5.0",
            "_view_name": "HTMLView",
            "description": "",
            "description_tooltip": null,
            "layout": "IPY_MODEL_3dc0068191e841c68bae24529b0b2067",
            "placeholder": "​",
            "style": "IPY_MODEL_dfdbeff2ed79430ea8ab4d3067962150",
            "value": "Iteration: 100%"
          }
        },
        "c49a8dcc0d5d4e4c8023d5344880e9eb": {
          "model_module": "@jupyter-widgets/controls",
          "model_name": "FloatProgressModel",
          "model_module_version": "1.5.0",
          "state": {
            "_dom_classes": [],
            "_model_module": "@jupyter-widgets/controls",
            "_model_module_version": "1.5.0",
            "_model_name": "FloatProgressModel",
            "_view_count": null,
            "_view_module": "@jupyter-widgets/controls",
            "_view_module_version": "1.5.0",
            "_view_name": "ProgressView",
            "bar_style": "success",
            "description": "",
            "description_tooltip": null,
            "layout": "IPY_MODEL_def6733685c3469880430678fc30c630",
            "max": 1252,
            "min": 0,
            "orientation": "horizontal",
            "style": "IPY_MODEL_09161781355843b089b52ead00918919",
            "value": 1252
          }
        },
        "6047abe27ffb4ff296dea8be3c7d566f": {
          "model_module": "@jupyter-widgets/controls",
          "model_name": "HTMLModel",
          "model_module_version": "1.5.0",
          "state": {
            "_dom_classes": [],
            "_model_module": "@jupyter-widgets/controls",
            "_model_module_version": "1.5.0",
            "_model_name": "HTMLModel",
            "_view_count": null,
            "_view_module": "@jupyter-widgets/controls",
            "_view_module_version": "1.5.0",
            "_view_name": "HTMLView",
            "description": "",
            "description_tooltip": null,
            "layout": "IPY_MODEL_44f03f48878a402c85f050ce2058dee5",
            "placeholder": "​",
            "style": "IPY_MODEL_a2c67dd63a044c46922cdeca536ae0d0",
            "value": " 1252/1252 [09:25&lt;00:00,  2.26it/s]"
          }
        },
        "8693a2c55ea94479816b8c5062eb6863": {
          "model_module": "@jupyter-widgets/base",
          "model_name": "LayoutModel",
          "model_module_version": "1.2.0",
          "state": {
            "_model_module": "@jupyter-widgets/base",
            "_model_module_version": "1.2.0",
            "_model_name": "LayoutModel",
            "_view_count": null,
            "_view_module": "@jupyter-widgets/base",
            "_view_module_version": "1.2.0",
            "_view_name": "LayoutView",
            "align_content": null,
            "align_items": null,
            "align_self": null,
            "border": null,
            "bottom": null,
            "display": null,
            "flex": null,
            "flex_flow": null,
            "grid_area": null,
            "grid_auto_columns": null,
            "grid_auto_flow": null,
            "grid_auto_rows": null,
            "grid_column": null,
            "grid_gap": null,
            "grid_row": null,
            "grid_template_areas": null,
            "grid_template_columns": null,
            "grid_template_rows": null,
            "height": null,
            "justify_content": null,
            "justify_items": null,
            "left": null,
            "margin": null,
            "max_height": null,
            "max_width": null,
            "min_height": null,
            "min_width": null,
            "object_fit": null,
            "object_position": null,
            "order": null,
            "overflow": null,
            "overflow_x": null,
            "overflow_y": null,
            "padding": null,
            "right": null,
            "top": null,
            "visibility": null,
            "width": null
          }
        },
        "3dc0068191e841c68bae24529b0b2067": {
          "model_module": "@jupyter-widgets/base",
          "model_name": "LayoutModel",
          "model_module_version": "1.2.0",
          "state": {
            "_model_module": "@jupyter-widgets/base",
            "_model_module_version": "1.2.0",
            "_model_name": "LayoutModel",
            "_view_count": null,
            "_view_module": "@jupyter-widgets/base",
            "_view_module_version": "1.2.0",
            "_view_name": "LayoutView",
            "align_content": null,
            "align_items": null,
            "align_self": null,
            "border": null,
            "bottom": null,
            "display": null,
            "flex": null,
            "flex_flow": null,
            "grid_area": null,
            "grid_auto_columns": null,
            "grid_auto_flow": null,
            "grid_auto_rows": null,
            "grid_column": null,
            "grid_gap": null,
            "grid_row": null,
            "grid_template_areas": null,
            "grid_template_columns": null,
            "grid_template_rows": null,
            "height": null,
            "justify_content": null,
            "justify_items": null,
            "left": null,
            "margin": null,
            "max_height": null,
            "max_width": null,
            "min_height": null,
            "min_width": null,
            "object_fit": null,
            "object_position": null,
            "order": null,
            "overflow": null,
            "overflow_x": null,
            "overflow_y": null,
            "padding": null,
            "right": null,
            "top": null,
            "visibility": null,
            "width": null
          }
        },
        "dfdbeff2ed79430ea8ab4d3067962150": {
          "model_module": "@jupyter-widgets/controls",
          "model_name": "DescriptionStyleModel",
          "model_module_version": "1.5.0",
          "state": {
            "_model_module": "@jupyter-widgets/controls",
            "_model_module_version": "1.5.0",
            "_model_name": "DescriptionStyleModel",
            "_view_count": null,
            "_view_module": "@jupyter-widgets/base",
            "_view_module_version": "1.2.0",
            "_view_name": "StyleView",
            "description_width": ""
          }
        },
        "def6733685c3469880430678fc30c630": {
          "model_module": "@jupyter-widgets/base",
          "model_name": "LayoutModel",
          "model_module_version": "1.2.0",
          "state": {
            "_model_module": "@jupyter-widgets/base",
            "_model_module_version": "1.2.0",
            "_model_name": "LayoutModel",
            "_view_count": null,
            "_view_module": "@jupyter-widgets/base",
            "_view_module_version": "1.2.0",
            "_view_name": "LayoutView",
            "align_content": null,
            "align_items": null,
            "align_self": null,
            "border": null,
            "bottom": null,
            "display": null,
            "flex": null,
            "flex_flow": null,
            "grid_area": null,
            "grid_auto_columns": null,
            "grid_auto_flow": null,
            "grid_auto_rows": null,
            "grid_column": null,
            "grid_gap": null,
            "grid_row": null,
            "grid_template_areas": null,
            "grid_template_columns": null,
            "grid_template_rows": null,
            "height": null,
            "justify_content": null,
            "justify_items": null,
            "left": null,
            "margin": null,
            "max_height": null,
            "max_width": null,
            "min_height": null,
            "min_width": null,
            "object_fit": null,
            "object_position": null,
            "order": null,
            "overflow": null,
            "overflow_x": null,
            "overflow_y": null,
            "padding": null,
            "right": null,
            "top": null,
            "visibility": null,
            "width": null
          }
        },
        "09161781355843b089b52ead00918919": {
          "model_module": "@jupyter-widgets/controls",
          "model_name": "ProgressStyleModel",
          "model_module_version": "1.5.0",
          "state": {
            "_model_module": "@jupyter-widgets/controls",
            "_model_module_version": "1.5.0",
            "_model_name": "ProgressStyleModel",
            "_view_count": null,
            "_view_module": "@jupyter-widgets/base",
            "_view_module_version": "1.2.0",
            "_view_name": "StyleView",
            "bar_color": null,
            "description_width": ""
          }
        },
        "44f03f48878a402c85f050ce2058dee5": {
          "model_module": "@jupyter-widgets/base",
          "model_name": "LayoutModel",
          "model_module_version": "1.2.0",
          "state": {
            "_model_module": "@jupyter-widgets/base",
            "_model_module_version": "1.2.0",
            "_model_name": "LayoutModel",
            "_view_count": null,
            "_view_module": "@jupyter-widgets/base",
            "_view_module_version": "1.2.0",
            "_view_name": "LayoutView",
            "align_content": null,
            "align_items": null,
            "align_self": null,
            "border": null,
            "bottom": null,
            "display": null,
            "flex": null,
            "flex_flow": null,
            "grid_area": null,
            "grid_auto_columns": null,
            "grid_auto_flow": null,
            "grid_auto_rows": null,
            "grid_column": null,
            "grid_gap": null,
            "grid_row": null,
            "grid_template_areas": null,
            "grid_template_columns": null,
            "grid_template_rows": null,
            "height": null,
            "justify_content": null,
            "justify_items": null,
            "left": null,
            "margin": null,
            "max_height": null,
            "max_width": null,
            "min_height": null,
            "min_width": null,
            "object_fit": null,
            "object_position": null,
            "order": null,
            "overflow": null,
            "overflow_x": null,
            "overflow_y": null,
            "padding": null,
            "right": null,
            "top": null,
            "visibility": null,
            "width": null
          }
        },
        "a2c67dd63a044c46922cdeca536ae0d0": {
          "model_module": "@jupyter-widgets/controls",
          "model_name": "DescriptionStyleModel",
          "model_module_version": "1.5.0",
          "state": {
            "_model_module": "@jupyter-widgets/controls",
            "_model_module_version": "1.5.0",
            "_model_name": "DescriptionStyleModel",
            "_view_count": null,
            "_view_module": "@jupyter-widgets/base",
            "_view_module_version": "1.2.0",
            "_view_name": "StyleView",
            "description_width": ""
          }
        }
      }
    }
  },
  "nbformat": 4,
  "nbformat_minor": 5
}