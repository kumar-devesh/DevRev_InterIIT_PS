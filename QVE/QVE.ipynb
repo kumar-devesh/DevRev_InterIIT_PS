{
  "cells": [
    {
      "cell_type": "code",
      "execution_count": null,
      "metadata": {
        "colab": {
          "background_save": true
        },
        "id": "jCA6Dg2hQ-Xi"
      },
      "outputs": [],
      "source": [
        "!git clone https://github.com/xiangyue9607/QVE.git\n",
        "%cd QVE\n",
        "!pip install -r requirements.txt "
      ]
    },
    {
      "cell_type": "code",
      "execution_count": null,
      "metadata": {
        "colab": {
          "background_save": true
        },
        "id": "CR7OsEOMTanv"
      },
      "outputs": [],
      "source": [
        "!bash ./download_and_process.sh\n",
        "!sh ./run_qg.sh\n",
        "!wget http://web.cse.ohio-state.edu/~yue.149/QVE/checkpoint/QVE-HotpotQA-BERT-mini.zip\n",
        "!unzip QVE-HotpotQA-BERT-mini.zip"
      ]
    },
    {
      "cell_type": "code",
      "execution_count": null,
      "metadata": {
        "colab": {
          "base_uri": "https://localhost:8080/"
        },
        "id": "jjJtEaRaXEJy",
        "outputId": "a3602d8c-a972-4d25-a8d8-a72fd0a4d54c"
      },
      "outputs": [
        {
          "name": "stdout",
          "output_type": "stream",
          "text": [
            "/content/QVE/QA_checkpoints/QA_checkpoints\n",
            "--2023-02-09 13:30:19--  https://drive.google.com/drive/folders/1tsp4TTjmK4gvn-wh3SFRqirhWmc0TE_H?usp=share_link\n",
            "Resolving drive.google.com (drive.google.com)... 142.251.163.139, 142.251.163.138, 142.251.163.101, ...\n",
            "Connecting to drive.google.com (drive.google.com)|142.251.163.139|:443... connected.\n",
            "HTTP request sent, awaiting response... 200 OK\n",
            "Length: unspecified [text/html]\n",
            "Saving to: ‘1tsp4TTjmK4gvn-wh3SFRqirhWmc0TE_H?usp=share_link’\n",
            "\n",
            "1tsp4TTjmK4gvn-wh3S     [ <=>                ] 270.92K  --.-KB/s    in 0.1s    \n",
            "\n",
            "2023-02-09 13:30:19 (2.07 MB/s) - ‘1tsp4TTjmK4gvn-wh3SFRqirhWmc0TE_H?usp=share_link’ saved [277420]\n",
            "\n"
          ]
        }
      ],
      "source": [
        "%mkdir QA_checkpoints\n",
        "%cd QA_checkpoints\n",
        "!wget https://drive.google.com/drive/folders/1tsp4TTjmK4gvn-wh3SFRqirhWmc0TE_H?usp=share_link\n",
        "!git clone https://huggingface.co/deepset/deberta-v3-base-squad2"
      ]
    },
    {
      "cell_type": "code",
      "execution_count": null,
      "metadata": {
        "colab": {
          "base_uri": "https://localhost:8080/"
        },
        "id": "h8dDxPfKY0xW",
        "outputId": "0310a18b-2b9b-4b1b-fa64-f28e69c9ccf3"
      },
      "outputs": [
        {
          "name": "stdout",
          "output_type": "stream",
          "text": [
            "/content/QVE\n"
          ]
        }
      ],
      "source": [
        "%cd .."
      ]
    },
    {
      "cell_type": "code",
      "execution_count": null,
      "metadata": {
        "colab": {
          "base_uri": "https://localhost:8080/"
        },
        "id": "ssCmFU8-UugU",
        "outputId": "7ebfee7e-6ca0-4cd7-97da-54e27debecab"
      },
      "outputs": [
        {
          "name": "stdout",
          "output_type": "stream",
          "text": [
            "usage: run_qve.py\n",
            "       [-h]\n",
            "       --qa_model_name_or_path\n",
            "       QA_MODEL_NAME_OR_PATH\n",
            "       --qve_model_name_or_path\n",
            "       QVE_MODEL_NAME_OR_PATH\n",
            "       --marginal_model_name_or_path\n",
            "       MARGINAL_MODEL_NAME_OR_PATH\n",
            "       --output_dir\n",
            "       OUTPUT_DIR\n",
            "       [--train_file TRAIN_FILE]\n",
            "       [--dev_file DEV_FILE]\n",
            "       [--config_name CONFIG_NAME]\n",
            "       [--tokenizer_name TOKENIZER_NAME]\n",
            "       [--cache_dir CACHE_DIR]\n",
            "       [--fp16]\n",
            "       [--fp16_opt_level FP16_OPT_LEVEL]\n",
            "       [--max_seq_length MAX_SEQ_LENGTH]\n",
            "       [--doc_stride DOC_STRIDE]\n",
            "       [--max_query_length MAX_QUERY_LENGTH]\n",
            "       [--do_train]\n",
            "       [--do_estimation]\n",
            "       [--do_lower_case]\n",
            "       [--gradient_checkpointing]\n",
            "       [--per_gpu_train_qve_batch_size PER_GPU_TRAIN_QVE_BATCH_SIZE]\n",
            "       [--per_gpu_train_qa_batch_size PER_GPU_TRAIN_QA_BATCH_SIZE]\n",
            "       [--reward_type REWARD_TYPE]\n",
            "       [--sliding_window_size SLIDING_WINDOW_SIZE]\n",
            "       [--per_gpu_eval_batch_size PER_GPU_EVAL_BATCH_SIZE]\n",
            "       [--learning_rate LEARNING_RATE]\n",
            "       [--qve_learning_rate QVE_LEARNING_RATE]\n",
            "       [--qve_eval_data_num QVE_EVAL_DATA_NUM]\n",
            "       [--gradient_accumulation_steps GRADIENT_ACCUMULATION_STEPS]\n",
            "       [--weight_decay WEIGHT_DECAY]\n",
            "       [--adam_epsilon ADAM_EPSILON]\n",
            "       [--max_grad_norm MAX_GRAD_NORM]\n",
            "       [--num_train_epochs NUM_TRAIN_EPOCHS]\n",
            "       [--max_steps MAX_STEPS]\n",
            "       [--warmup_steps WARMUP_STEPS]\n",
            "       [--logging_steps LOGGING_STEPS]\n",
            "       [--save_steps SAVE_STEPS]\n",
            "       [--selected_question_percentage SELECTED_QUESTION_PERCENTAGE]\n",
            "       [--no_cuda]\n",
            "       [--overwrite_output_dir]\n",
            "       [--overwrite_cache]\n",
            "       [--seed SEED]\n",
            "       [--threads THREADS]\n",
            "       [--add_marginal_info]\n",
            "run_qve.py: error: the following arguments are required: --marginal_model_name_or_path\n"
          ]
        }
      ],
      "source": [
        "!python QVE/run_qve.py \\\n",
        "--qa_model_name_or_path deberta-v3-base-squad2 \\\n",
        "--qve_model_name_or_path /content/QVE/QVE-HotpotQA-BERT-mini \\\n",
        "--marginal_model_name_or_path checkpoints/QA_TriviaQA-web_Source_TargetDev/ \\\n",
        "--do_lower_case \\\n",
        "--train_file /content/QVE/data/HotpotQA.test.json \\\n",
        "--do_estimation \\\n",
        "--max_seq_length 384 \\\n",
        "--doc_stride 128 \\\n",
        "--output_dir checkpoints/ \\\n",
        "--overwrite_output_dir \\\n",
        "--add_marginal_info \\\n",
        "--selected_question_percentage 0.6"
      ]
    }
  ],
  "metadata": {
    "accelerator": "GPU",
    "colab": {
      "provenance": []
    },
    "gpuClass": "standard",
    "kernelspec": {
      "display_name": "Python 3",
      "name": "python3"
    },
    "language_info": {
      "name": "python"
    }
  },
  "nbformat": 4,
  "nbformat_minor": 0
}